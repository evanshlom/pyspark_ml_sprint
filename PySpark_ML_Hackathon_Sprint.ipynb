{
  "cells": [
    {
      "cell_type": "markdown",
      "metadata": {
        "id": "Hx4MrkHp1YFp"
      },
      "source": [
        "![Gordian_wordmark_RGB.png](data:image/png;base64,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)"
      ]
    },
    {
      "cell_type": "markdown",
      "source": [
        "# train.py"
      ],
      "metadata": {
        "id": "dySmE-o311UJ"
      }
    },
    {
      "cell_type": "code",
      "execution_count": null,
      "metadata": {
        "colab": {
          "base_uri": "https://localhost:8080/",
          "height": 74,
          "resources": {
            "http://localhost:8080/nbextensions/google.colab/files.js": {
              "data": "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",
              "ok": true,
              "headers": [
                [
                  "content-type",
                  "application/javascript"
                ]
              ],
              "status": 200,
              "status_text": "OK"
            }
          }
        },
        "id": "5x0x30HJd1ok",
        "outputId": "40b2bd20-ea8c-4af5-e345-0cd8a7b9834e",
        "cellView": "form"
      },
      "outputs": [
        {
          "output_type": "display_data",
          "data": {
            "text/plain": [
              "<IPython.core.display.HTML object>"
            ],
            "text/html": [
              "\n",
              "     <input type=\"file\" id=\"files-b9418f6b-536b-471e-933a-28f71cfacec9\" name=\"files[]\" multiple disabled\n",
              "        style=\"border:none\" />\n",
              "     <output id=\"result-b9418f6b-536b-471e-933a-28f71cfacec9\">\n",
              "      Upload widget is only available when the cell has been executed in the\n",
              "      current browser session. Please rerun this cell to enable.\n",
              "      </output>\n",
              "      <script src=\"/nbextensions/google.colab/files.js\"></script> "
            ]
          },
          "metadata": {}
        },
        {
          "output_type": "stream",
          "name": "stdout",
          "text": [
            "Saving sustainability.csv to sustainability.csv\n"
          ]
        }
      ],
      "source": [
        "#@title Welcome to the Carbon Neutral Date Model! PYSPARK VERSION\n",
        "\n",
        "#@markdown Table Of Contents:\n",
        "\n",
        "#@markdown 1.)  LOAD: Load anonymous dataset (values were randomized for privacy)\n",
        "\n",
        "#@markdown 2.)  PREPARE: Preprocess dataset\n",
        "\n",
        "#@markdown 3.)  MODEL: Train and Test Regressor\n",
        "\n",
        "#@markdown 4.)  SAVE: Pickle model\n",
        "\n",
        "#@markdown Please contact Evan Shlom with any feedback or questions at eshlom@fandm.edu or via the LinkedIn page for Innovative Operations at https://www.linkedin.com/company/innovativeoperations/\n",
        "\n",
        "#Filename = None #@param {type:\"raw\"}\n",
        "#Filepath = None #@param {type:\"raw\"}\n",
        "\n",
        "#@title\n",
        "\n",
        "from google.colab import files\n",
        "uploaded = files.upload()\n",
        "\n",
        "#print(raw_input)\n",
        "#print(raw_input2)"
      ]
    },
    {
      "cell_type": "markdown",
      "metadata": {
        "id": "q39uMI-Airsy"
      },
      "source": [
        "Import File"
      ]
    },
    {
      "cell_type": "markdown",
      "source": [
        "***NEED TO EDIT THE PIPELINE FOR NET ZERO TEMPLATE 0.3.0 INSTEAD OF VXN 0.2.0"
      ],
      "metadata": {
        "id": "MGZBo9slr0C_"
      }
    },
    {
      "cell_type": "code",
      "source": [
        "#1\n",
        "!pip install pyspark"
      ],
      "metadata": {
        "id": "nPOQ9ieA2zTH",
        "colab": {
          "base_uri": "https://localhost:8080/"
        },
        "outputId": "3e1712f7-3d32-40d7-dcd2-684fbba01caa"
      },
      "execution_count": null,
      "outputs": [
        {
          "output_type": "stream",
          "name": "stdout",
          "text": [
            "Looking in indexes: https://pypi.org/simple, https://us-python.pkg.dev/colab-wheels/public/simple/\n",
            "Collecting pyspark\n",
            "  Downloading pyspark-3.3.0.tar.gz (281.3 MB)\n",
            "\u001b[K     |████████████████████████████████| 281.3 MB 46 kB/s \n",
            "\u001b[?25hCollecting py4j==0.10.9.5\n",
            "  Downloading py4j-0.10.9.5-py2.py3-none-any.whl (199 kB)\n",
            "\u001b[K     |████████████████████████████████| 199 kB 41.4 MB/s \n",
            "\u001b[?25hBuilding wheels for collected packages: pyspark\n",
            "  Building wheel for pyspark (setup.py) ... \u001b[?25l\u001b[?25hdone\n",
            "  Created wheel for pyspark: filename=pyspark-3.3.0-py2.py3-none-any.whl size=281764026 sha256=1570a198049c8a8e8a9bfe3a11c06f905812183056c270fa6fa73b785c95e8f6\n",
            "  Stored in directory: /root/.cache/pip/wheels/7a/8e/1b/f73a52650d2e5f337708d9f6a1750d451a7349a867f928b885\n",
            "Successfully built pyspark\n",
            "Installing collected packages: py4j, pyspark\n",
            "Successfully installed py4j-0.10.9.5 pyspark-3.3.0\n"
          ]
        }
      ]
    },
    {
      "cell_type": "code",
      "source": [
        "#2\n",
        "from pyspark.sql import SparkSession\n",
        "\n",
        "spark = SparkSession\\\n",
        "        .builder\\\n",
        "        .appName(\"PySpark Deployed Machine Learning with Unit Testing\")\\\n",
        "        .master(\"local[*]\")\\\n",
        "        .getOrCreate()"
      ],
      "metadata": {
        "id": "UYlddzGXAr88"
      },
      "execution_count": null,
      "outputs": []
    },
    {
      "cell_type": "code",
      "source": [
        "import io\n",
        "# rdd used to ingest data\n",
        "# df could span entire pipeline\n",
        "rdd = spark.read.csv(\"sustainability.csv\", header=True).rdd"
      ],
      "metadata": {
        "id": "FUuji9eCSFNu"
      },
      "execution_count": null,
      "outputs": []
    },
    {
      "cell_type": "code",
      "source": [
        "# Persist RDD --- run unit test with these two persist methods as separate user-defined functions in a class, and unit test base as other class, with actual unit test in a third class with the two unit test functions\n",
        "from pyspark.storagelevel import StorageLevel\n",
        "\n",
        "# persist without serialization\n",
        "rdd_serialize = rdd\n",
        "rdd_serialize.persist(StorageLevel.DISK_ONLY)\n",
        "####!!!! add unittest1 around this\n",
        "rdd_serialize.unpersist()\n",
        "\n",
        "# persist serialized\n",
        "rdd_unserialize = rdd\n",
        "rdd_unserialize.persist(StorageLevel.MEMORY_AND_DISK)\n",
        "####!!!!! add unittest2 around this\n",
        "rdd_unserialize.unpersist()"
      ],
      "metadata": {
        "id": "6bZToVJ44kqy",
        "colab": {
          "base_uri": "https://localhost:8080/"
        },
        "outputId": "abfcf809-4fac-4b4f-d6ea-7fa876cefc11"
      },
      "execution_count": null,
      "outputs": [
        {
          "output_type": "execute_result",
          "data": {
            "text/plain": [
              "MapPartitionsRDD[14] at javaToPython at NativeMethodAccessorImpl.java:0"
            ]
          },
          "metadata": {},
          "execution_count": 5
        }
      ]
    },
    {
      "cell_type": "code",
      "source": [
        "\n",
        "name = ['Evan', 'Shlom']\n",
        "test = ['Evan', 'test1','test2'] \n",
        "\n",
        "\n"
      ],
      "metadata": {
        "id": "JSeZbObieYe-"
      },
      "execution_count": null,
      "outputs": []
    },
    {
      "cell_type": "code",
      "source": [
        "class Class():\n",
        "  def function(name, test):\n",
        "    for i in name:\n",
        "      for j in test:\n",
        "        if i==j:\n",
        "          return True\n",
        "        else:\n",
        "          return False"
      ],
      "metadata": {
        "id": "anN_qn06ei2h"
      },
      "execution_count": null,
      "outputs": []
    },
    {
      "cell_type": "code",
      "source": [
        "for i in name:\n",
        "  for j in test:\n",
        "    if i==j:\n",
        "      print(\"True\")\n",
        "    else:\n",
        "      print(\"False\")"
      ],
      "metadata": {
        "colab": {
          "base_uri": "https://localhost:8080/"
        },
        "id": "1E1Ax8cvei42",
        "outputId": "5542d0d1-0d78-480c-90e5-c5a0d444c66f"
      },
      "execution_count": null,
      "outputs": [
        {
          "output_type": "stream",
          "name": "stdout",
          "text": [
            "True\n",
            "False\n",
            "False\n",
            "False\n",
            "False\n",
            "False\n"
          ]
        }
      ]
    },
    {
      "cell_type": "code",
      "source": [
        ""
      ],
      "metadata": {
        "id": "V3nH6AUvei7O"
      },
      "execution_count": null,
      "outputs": []
    },
    {
      "cell_type": "code",
      "source": [
        ""
      ],
      "metadata": {
        "id": "7yo-7vkAei9l"
      },
      "execution_count": null,
      "outputs": []
    },
    {
      "cell_type": "code",
      "source": [
        "# inspect number of rows per institution_name\n",
        "# throwaway\n",
        "rdd.countByKey().items()"
      ],
      "metadata": {
        "colab": {
          "base_uri": "https://localhost:8080/"
        },
        "id": "s-5vXZasmvRf",
        "outputId": "ecf99d05-5887-4ab1-da7c-7748cc81ce05"
      },
      "execution_count": null,
      "outputs": [
        {
          "output_type": "execute_result",
          "data": {
            "text/plain": [
              "dict_items([('a', 6), ('b', 11), ('c', 9), ('d', 14), ('e', 8), ('f', 13), ('g', 10), ('h', 14), ('i', 15), ('j', 18), ('k', 16), ('l', 9), ('m', 17), ('n', 9), ('o', 15), ('p', 8), ('q', 16), ('r', 6), ('s', 9), ('t', 14), ('u', 18), ('v', 7)])"
            ]
          },
          "metadata": {},
          "execution_count": 6
        }
      ]
    },
    {
      "cell_type": "code",
      "source": [
        "# inspect first row of data in rdd\n",
        "# throwaway\n",
        "rdd.first()"
      ],
      "metadata": {
        "colab": {
          "base_uri": "https://localhost:8080/"
        },
        "id": "jRIpNRtcnUXw",
        "outputId": "d3f6e82d-8611-42ed-d530-fc3fa9d1839d"
      },
      "execution_count": null,
      "outputs": [
        {
          "output_type": "execute_result",
          "data": {
            "text/plain": [
              "Row(institution_name='a', Fiscal Year='2017', timestep='15', reverse_timestep='4', EUI-Adjusted Floor Space='248,942', gsf='248942', Weighted Campus User='416', fte_per_gsf='0.00167', Maintained Acres='0', Total Enrollment (FTE)2='298', Faculty (FTE)3='90', Staff (FTE)4='68', E-Grid Pre-2006='WECC California', E-Grid='WECC California', Scope 1 Emissions='840.0128467', Scope 2 Emissions='429.2013956', Scope 3 Emissions='555.3030901', Gross Emissions='1824.517332', Net Emissions='1,824.52', net_mtcde_per_gsf='0.00733', Stationary Emissions='584.2693621', Fleet Emissions='255.6980763', Refrigerant Emissions='0', Agricultural Emissions='0.045408263', Purchased Electric Emissions='429.2013956', Purchased Steam Emissions='0', Purchased Chilled Water Emissions='0', Student Community Emissions='13.6495915', Employee Commuting Emissions='106.1943118', Other Travel Emissions='141.8034551', Waste Emissions='258.94792', Wasterwater  Emissions='5.095961665', Paper Emissions='10.6547454', T&D Losses Emissions='18.95710456', Landfilled Waste='182.05', Incinerated Waste='0', C&D Waste='0', Recycling='15.59', Compost='8.78', Other='3', Waste='209.35')"
            ]
          },
          "metadata": {},
          "execution_count": 7
        }
      ]
    },
    {
      "cell_type": "code",
      "source": [
        "# convert rdd to df\n",
        "# df for preprocessing\n",
        "df = rdd.toDF()\n",
        "\n",
        "# change type to float or int for feature and output cols\n",
        "from pyspark.sql.types import DecimalType, IntegerType\n",
        "decimal = DecimalType(precision=20, scale=5)\n",
        "df = df \\\n",
        "      .withColumn(\"timestep\",\n",
        "                  df[\"timestep\"]\n",
        "                  .cast(IntegerType()))     \\\n",
        "      .withColumn(\"fte_per_gsf\",\n",
        "                   df[\"fte_per_gsf\"]\n",
        "                   .cast(decimal))    \\\n",
        "      .withColumn(\"net_mtcde_per_gsf\",\n",
        "                   df[\"net_mtcde_per_gsf\"]\n",
        "                   .cast(decimal))\n",
        "\n",
        "df.printSchema()\n",
        "df.show(truncate=False)"
      ],
      "metadata": {
        "colab": {
          "base_uri": "https://localhost:8080/"
        },
        "collapsed": true,
        "id": "pn918EgGtwX7",
        "outputId": "7848fe83-e5a6-4cff-a724-59d512e23773"
      },
      "execution_count": null,
      "outputs": [
        {
          "output_type": "stream",
          "name": "stdout",
          "text": [
            "root\n",
            " |-- institution_name: string (nullable = true)\n",
            " |-- Fiscal Year: string (nullable = true)\n",
            " |-- timestep: integer (nullable = true)\n",
            " |-- reverse_timestep: string (nullable = true)\n",
            " |-- EUI-Adjusted Floor Space: string (nullable = true)\n",
            " |-- gsf: string (nullable = true)\n",
            " |-- Weighted Campus User: string (nullable = true)\n",
            " |-- fte_per_gsf: decimal(20,5) (nullable = true)\n",
            " |-- Maintained Acres: string (nullable = true)\n",
            " |-- Total Enrollment (FTE)2: string (nullable = true)\n",
            " |-- Faculty (FTE)3: string (nullable = true)\n",
            " |-- Staff (FTE)4: string (nullable = true)\n",
            " |-- E-Grid Pre-2006: string (nullable = true)\n",
            " |-- E-Grid: string (nullable = true)\n",
            " |-- Scope 1 Emissions: string (nullable = true)\n",
            " |-- Scope 2 Emissions: string (nullable = true)\n",
            " |-- Scope 3 Emissions: string (nullable = true)\n",
            " |-- Gross Emissions: string (nullable = true)\n",
            " |-- Net Emissions: string (nullable = true)\n",
            " |-- net_mtcde_per_gsf: decimal(20,5) (nullable = true)\n",
            " |-- Stationary Emissions: string (nullable = true)\n",
            " |-- Fleet Emissions: string (nullable = true)\n",
            " |-- Refrigerant Emissions: string (nullable = true)\n",
            " |-- Agricultural Emissions: string (nullable = true)\n",
            " |-- Purchased Electric Emissions: string (nullable = true)\n",
            " |-- Purchased Steam Emissions: string (nullable = true)\n",
            " |-- Purchased Chilled Water Emissions: string (nullable = true)\n",
            " |-- Student Community Emissions: string (nullable = true)\n",
            " |-- Employee Commuting Emissions: string (nullable = true)\n",
            " |-- Other Travel Emissions: string (nullable = true)\n",
            " |-- Waste Emissions: string (nullable = true)\n",
            " |-- Wasterwater  Emissions: string (nullable = true)\n",
            " |-- Paper Emissions: string (nullable = true)\n",
            " |-- T&D Losses Emissions: string (nullable = true)\n",
            " |-- Landfilled Waste: string (nullable = true)\n",
            " |-- Incinerated Waste: string (nullable = true)\n",
            " |-- C&D Waste: string (nullable = true)\n",
            " |-- Recycling: string (nullable = true)\n",
            " |-- Compost: string (nullable = true)\n",
            " |-- Other: string (nullable = true)\n",
            " |-- Waste: string (nullable = true)\n",
            "\n",
            "+----------------+-----------+--------+----------------+------------------------+------+--------------------+-----------+----------------+-----------------------+--------------+------------+---------------+--------------------+-----------------+-----------------+-----------------+---------------+-------------+-----------------+--------------------+---------------+---------------------+----------------------+----------------------------+-------------------------+---------------------------------+---------------------------+----------------------------+----------------------+---------------+----------------------+---------------+--------------------+----------------+-----------------+---------+---------+-------+-----+------+\n",
            "|institution_name|Fiscal Year|timestep|reverse_timestep|EUI-Adjusted Floor Space|gsf   |Weighted Campus User|fte_per_gsf|Maintained Acres|Total Enrollment (FTE)2|Faculty (FTE)3|Staff (FTE)4|E-Grid Pre-2006|E-Grid              |Scope 1 Emissions|Scope 2 Emissions|Scope 3 Emissions|Gross Emissions|Net Emissions|net_mtcde_per_gsf|Stationary Emissions|Fleet Emissions|Refrigerant Emissions|Agricultural Emissions|Purchased Electric Emissions|Purchased Steam Emissions|Purchased Chilled Water Emissions|Student Community Emissions|Employee Commuting Emissions|Other Travel Emissions|Waste Emissions|Wasterwater  Emissions|Paper Emissions|T&D Losses Emissions|Landfilled Waste|Incinerated Waste|C&D Waste|Recycling|Compost|Other|Waste |\n",
            "+----------------+-----------+--------+----------------+------------------------+------+--------------------+-----------+----------------+-----------------------+--------------+------------+---------------+--------------------+-----------------+-----------------+-----------------+---------------+-------------+-----------------+--------------------+---------------+---------------------+----------------------+----------------------------+-------------------------+---------------------------------+---------------------------+----------------------------+----------------------+---------------+----------------------+---------------+--------------------+----------------+-----------------+---------+---------+-------+-----+------+\n",
            "|a               |2017       |15      |4               |248,942                 |248942|416                 |0.00167    |0               |298                    |90            |68          |WECC California|WECC California     |840.0128467      |429.2013956      |555.3030901      |1824.517332    |1,824.52     |0.00733          |584.2693621         |255.6980763    |0                    |0.045408263           |429.2013956                 |0                        |0                                |13.6495915                 |106.1943118                 |141.8034551           |258.94792      |5.095961665           |10.6547454     |18.95710456         |182.05          |0                |0        |15.59    |8.78   |3    |209.35|\n",
            "|a               |2019       |17      |2               |248,942                 |248942|422                 |0.00170    |0               |321                    |82            |59          |WECC California|WECC California     |859.4927909      |390.5963404      |522.6462135      |1772.735345    |1,772.74     |0.00712          |626.2604782         |233.1869044    |0                    |0.045408263           |390.5963404                 |0                        |0                                |19.19100844                |92.21409228                 |145.9174687           |229.85984      |5.095961665           |10.6547454     |19.71309699         |161.6           |0                |0        |4.07     |66.22  |15   |247.3 |\n",
            "|a               |2018       |16      |3               |248,942                 |248942|434                 |0.00174    |0               |320                    |92            |63          |WECC California|WECC California     |831.418538       |380.4972577      |453.6304715      |1665.546267    |1,665.55     |0.00669          |599.532408          |231.8407217    |0                    |0.045408263           |380.4972577                 |0                        |0                                |14.50554806                |106.2152374                 |105.3626149           |192.59296      |5.095961665           |10.6547454     |19.20340405         |135.4           |0                |0        |1.01     |59.92  |0    |196.33|\n",
            "|a               |2016       |14      |5               |248,942                 |248942|416                 |0.00167    |0               |298                    |90            |68          |WECC California|WECC California     |829.7610664      |390.6009577      |382.8310719      |1603.193096    |1,603.19     |0.00644          |570.4275402         |255.7981782    |3.489939695          |0.045408263           |390.6009577                 |0                        |0                                |13.65493474                |106.2358775                 |92.4197325            |137.517632     |5.095961665           |10.6547454     |17.25218807         |96.68           |0                |0        |8.02     |15.95  |0    |120.65|\n",
            "|a               |2020       |18      |1               |248,942                 |248942|431                 |0.00173    |0               |326                    |79            |66          |WECC California|WECC California     |808.5749245      |332.1683423      |355.064354       |1495.807621    |1,495.81     |0.00601          |640.2542734         |168.2752428    |0                    |0.045408263           |332.1683423                 |0                        |0                                |14.0734062                 |83.70348516                 |90.33877165           |137.9728       |5.108446552           |7.1031636      |16.76428085         |97              |0                |0        |5.48     |26.56  |0    |129.04|\n",
            "|a               |2021       |19      |0               |248,942                 |248942|360                 |0.00145    |0               |280                    |51            |53          |WECC California|WECC California     |629.8516049      |276.3144658      |292.4152084      |1198.581279    |1,198.58     |0.00481          |544.6770062         |85.12919046    |0                    |0.045408263           |276.3144658                 |0                        |0                                |11.51460507                |56.02621854                 |2.08435969            |198.936864     |2.804618808           |7.1031636      |13.94537865         |139.86          |0                |0        |1.48     |0      |0    |141.34|\n",
            "|b               |2014       |12      |7               |285,371                 |285371|333                 |0.00117    |45              |252                    |55            |59          |CALI           |CAMX                |560.1795459      |405.394005       |617.3530512      |1582.926602    |1,582.93     |0.00555          |272.319841          |102.2046316    |101.8042715          |83.85080182           |405.394005                  |0                        |0                                |32.08083552                |156.9435355                 |366.7569921           |-1.2135        |42.38987996           |0              |20.3953081          |40.45           |0                |0        |6.57     |60     |54   |161.04|\n",
            "|b               |2015       |13      |6               |285,371                 |285371|339                 |0.00119    |45              |260                    |55            |59          |CALI           |CAMX                |416.9203723      |392.7482024      |615.4542595      |1425.122834    |1,425.12     |0.00499          |226.8800175         |94.59200492    |8.210021897          |87.23832797           |392.7482024                 |0                        |0                                |41.22297843                |156.8529384                 |362.8014824           |-0.6321        |35.44986049           |0              |19.75909977         |21.07           |0                |0        |8.8      |26.39  |70   |126.65|\n",
            "|b               |2016       |14      |5               |287,991                 |287991|337                 |0.00117    |45              |257                    |55            |59          |CALI           |CAMX                |439.6387257      |403.8236787      |613.4372327      |1456.899637    |1,456.90     |0.00506          |228.7946168         |92.23877025    |32.84008759          |85.76525104           |403.8236787                 |0                        |0                                |38.93281296                |156.8529384                 |367.579182            |-0.7995        |30.55549416           |0              |20.31630523         |26.65           |0                |0        |15.96    |31.27  |29   |102.82|\n",
            "|b               |2017       |15      |4               |291,291                 |291291|340                 |0.00117    |45              |261                    |55            |59          |CALI           |CAMX                |501.3461313      |77.26454626      |632.2363934      |1210.847071    |1,210.85     |0.00416          |255.3862738         |86.87797362    |70.74779985          |88.33408398           |77.26454626                 |0                        |0                                |39.92070953                |158.7317356                 |366.268674            |-0.81          |39.92826634           |8.967869468    |19.22913848         |27              |0                |0        |15.96    |31.27  |29   |103.17|\n",
            "|b               |2018       |16      |3               |291,291                 |291291|340                 |0.00117    |45              |261                    |55            |59          |CALI           |CAMX                |501.3461313      |77.26454626      |632.2363934      |1210.847071    |1,210.85     |0.00416          |255.3862738         |86.87797362    |70.74779985          |88.33408398           |77.26454626                 |0                        |0                                |39.92070953                |158.7317356                 |366.268674            |-0.81          |39.92826634           |8.967869468    |19.22913848         |27              |0                |0        |15.96    |31.27  |29   |103.17|\n",
            "|b               |2019       |17      |2               |291,291                 |291291|340                 |0.00117    |45              |261                    |55            |59          |CALI           |CAMX                |501.3461313      |77.26454626      |632.2363934      |1210.847071    |1,210.85     |0.00416          |255.3862738         |86.87797362    |70.74779985          |88.33408398           |77.26454626                 |0                        |0                                |39.92070953                |158.7317356                 |366.268674            |-0.81          |39.92826634           |8.967869468    |19.22913848         |27              |0                |0        |15.96    |31.27  |29   |103.17|\n",
            "|b               |2020       |18      |1               |291,291                 |291291|340                 |0.00117    |45              |261                    |55            |59          |CALI           |CAMX                |501.3461313      |77.26454626      |632.2363934      |1210.847071    |1,210.85     |0.00416          |255.3862738         |86.87797362    |70.74779985          |88.33408398           |77.26454626                 |0                        |0                                |39.92070953                |158.7317356                 |366.268674            |-0.81          |39.92826634           |8.967869468    |19.22913848         |27              |0                |0        |15.96    |31.27  |29   |103.17|\n",
            "|b               |2010       |8       |11              |294,142                 |294142|329                 |0.00112    |45              |249                    |55            |59          |CALI           |CAMX                |611.078071       |437.6962709      |588.4944052      |1637.268747    |1,637.27     |0.00557          |326.6678696         |102.4829846    |101.8042715          |80.12294521           |437.6962709                 |0                        |0                                |34.52866411                |157.6574531                 |321.048727            |-1.389         |44.51199493           |0              |32.13656605         |46.3            |0                |0        |4.33     |20     |0    |70.63 |\n",
            "|b               |2011       |9       |10              |294,142                 |294142|329                 |0.00112    |45              |249                    |55            |59          |CALI           |CAMX                |639.9445893      |324.4257205      |553.3959755      |1517.766285    |1,517.77     |0.00516          |355.6846857         |102.3326869    |101.8042715          |80.12294521           |324.4257205                 |0                        |0                                |34.46245178                |157.3551284                 |296.6870251           |-1.389         |42.46036245           |0              |23.82000782         |46.3            |0                |0        |4.33     |20     |0    |70.63 |\n",
            "|b               |2012       |10      |9               |295,377                 |295377|335                 |0.00113    |45              |256                    |55            |59          |CALI           |CAMX                |610.4002929      |350.1375935      |547.7457435      |1508.28363     |1,508.28     |0.00511          |326.2211297         |102.2519464    |101.8042715          |80.12294521           |350.1375935                 |0                        |0                                |41.27059872                |157.0341331                 |285.1336886           |-1.389         |44.28139839           |0              |21.41492466         |46.3            |0                |0        |11.24    |50     |35   |142.27|\n",
            "|b               |2013       |11      |8               |295,577                 |295577|330                 |0.00112    |45              |249                    |55            |59          |CALI           |CAMX                |586.3172728      |358.2980045      |617.79416        |1562.409437    |1,562.41     |0.00529          |303.3948514         |102.2378236    |101.8042715          |78.88032635           |358.2980045                 |0                        |0                                |32.09318158                |157.0039341                 |369.0018907           |-1.9977        |39.77882636           |0              |21.91402727         |66.59           |0                |0        |8.57     |60     |231  |365.8 |\n",
            "|c               |2013       |11      |8               |302,010                 |302010|2,222               |0.00736    |0               |2599                   |157           |207         |WECC Southwest |AZNM: WECC Southwest|226.532461       |3254.06668       |3162.866908      |6643.46605     |6,643.47     |0.02200          |134.8754976         |14.90747141    |73.70876013          |3.0407319             |3254.06668                  |0                        |0                                |1831.397567                |720.79701                   |152.1606292           |193.729536     |19.02809244           |46.73062053    |199.0234528         |360.36          |0                |0        |0        |0      |0    |360.36|\n",
            "|c               |2014       |12      |7               |302,010                 |302010|2,130               |0.00705    |0               |2472                   |161           |206         |WECC Southwest |AZNM: WECC Southwest|183.552418       |2409.699256      |2634.651771      |5227.903446    |5,227.90     |0.01731          |94.33377871         |12.46914726    |73.70876013          |3.0407319             |2409.699256                 |0                        |0                                |1759.6991                  |492.6273827                 |7.929045563           |185.657472     |19.02809244           |48.47909157    |121.2315874         |360.36          |0                |0        |0        |0      |0    |360.36|\n",
            "|c               |2016       |14      |5               |302,010                 |302010|1,979               |0.00655    |0               |2275                   |150           |214         |WECC Southwest |AZNM: WECC Southwest|243.8621092      |2644.630592      |1962.645782      |4851.138483    |4,851.14     |0.01606          |148.8661766         |19.19745138    |73.70876013          |2.0897211             |2644.630592                 |0                        |0                                |960.1392524                |459.4700122                 |188.1540205           |185.657472     |18.46026922           |34.35472395    |116.4100318         |360.36          |0                |0        |0        |0      |0    |360.36|\n",
            "+----------------+-----------+--------+----------------+------------------------+------+--------------------+-----------+----------------+-----------------------+--------------+------------+---------------+--------------------+-----------------+-----------------+-----------------+---------------+-------------+-----------------+--------------------+---------------+---------------------+----------------------+----------------------------+-------------------------+---------------------------------+---------------------------+----------------------------+----------------------+---------------+----------------------+---------------+--------------------+----------------+-----------------+---------+---------+-------+-----+------+\n",
            "only showing top 20 rows\n",
            "\n"
          ]
        }
      ]
    },
    {
      "cell_type": "code",
      "source": [
        "# throwaway - ignore this kernel\n",
        "# Define features\n",
        "feature_cols = [\n",
        "            \"timestep\",\n",
        "            \"fte_per_gsf\"\n",
        "]          \n",
        "X = df.select(feature_cols)\n",
        "# Define target\n",
        "y = df.select(\"net_mtcde_per_gsf\")"
      ],
      "metadata": {
        "id": "v5scwL7_uqhN"
      },
      "execution_count": null,
      "outputs": []
    },
    {
      "cell_type": "code",
      "source": [
        "from pyspark.ml.feature import VectorAssembler\n",
        "\n",
        "feature_cols = [\n",
        "            \"timestep\",\n",
        "            \"fte_per_gsf\"\n",
        "]\n",
        "assembler = VectorAssembler(inputCols=feature_cols,\n",
        "                            outputCol=\"feature_vector\")\n",
        "df = assembler.transform(df)\n",
        "df.show()"
      ],
      "metadata": {
        "colab": {
          "base_uri": "https://localhost:8080/"
        },
        "id": "m1nFLrO30igq",
        "outputId": "d8d8348a-e3bb-4add-ec32-0cd91e059ff0",
        "collapsed": true
      },
      "execution_count": null,
      "outputs": [
        {
          "output_type": "stream",
          "name": "stdout",
          "text": [
            "+----------------+-----------+--------+----------------+------------------------+------+--------------------+-----------+----------------+-----------------------+--------------+------------+---------------+--------------------+-----------------+-----------------+-----------------+---------------+-------------+-----------------+--------------------+---------------+---------------------+----------------------+----------------------------+-------------------------+---------------------------------+---------------------------+----------------------------+----------------------+---------------+----------------------+---------------+--------------------+----------------+-----------------+---------+---------+-------+-----+------+--------------+\n",
            "|institution_name|Fiscal Year|timestep|reverse_timestep|EUI-Adjusted Floor Space|   gsf|Weighted Campus User|fte_per_gsf|Maintained Acres|Total Enrollment (FTE)2|Faculty (FTE)3|Staff (FTE)4|E-Grid Pre-2006|              E-Grid|Scope 1 Emissions|Scope 2 Emissions|Scope 3 Emissions|Gross Emissions|Net Emissions|net_mtcde_per_gsf|Stationary Emissions|Fleet Emissions|Refrigerant Emissions|Agricultural Emissions|Purchased Electric Emissions|Purchased Steam Emissions|Purchased Chilled Water Emissions|Student Community Emissions|Employee Commuting Emissions|Other Travel Emissions|Waste Emissions|Wasterwater  Emissions|Paper Emissions|T&D Losses Emissions|Landfilled Waste|Incinerated Waste|C&D Waste|Recycling|Compost|Other| Waste|feature_vector|\n",
            "+----------------+-----------+--------+----------------+------------------------+------+--------------------+-----------+----------------+-----------------------+--------------+------------+---------------+--------------------+-----------------+-----------------+-----------------+---------------+-------------+-----------------+--------------------+---------------+---------------------+----------------------+----------------------------+-------------------------+---------------------------------+---------------------------+----------------------------+----------------------+---------------+----------------------+---------------+--------------------+----------------+-----------------+---------+---------+-------+-----+------+--------------+\n",
            "|               a|       2017|      15|               4|                 248,942|248942|                 416|    0.00167|               0|                    298|            90|          68|WECC California|     WECC California|      840.0128467|      429.2013956|      555.3030901|    1824.517332|     1,824.52|          0.00733|         584.2693621|    255.6980763|                    0|           0.045408263|                 429.2013956|                        0|                                0|                 13.6495915|                 106.1943118|           141.8034551|      258.94792|           5.095961665|     10.6547454|         18.95710456|          182.05|                0|        0|    15.59|   8.78|    3|209.35|[15.0,0.00167]|\n",
            "|               a|       2019|      17|               2|                 248,942|248942|                 422|    0.00170|               0|                    321|            82|          59|WECC California|     WECC California|      859.4927909|      390.5963404|      522.6462135|    1772.735345|     1,772.74|          0.00712|         626.2604782|    233.1869044|                    0|           0.045408263|                 390.5963404|                        0|                                0|                19.19100844|                 92.21409228|           145.9174687|      229.85984|           5.095961665|     10.6547454|         19.71309699|           161.6|                0|        0|     4.07|  66.22|   15| 247.3| [17.0,0.0017]|\n",
            "|               a|       2018|      16|               3|                 248,942|248942|                 434|    0.00174|               0|                    320|            92|          63|WECC California|     WECC California|       831.418538|      380.4972577|      453.6304715|    1665.546267|     1,665.55|          0.00669|          599.532408|    231.8407217|                    0|           0.045408263|                 380.4972577|                        0|                                0|                14.50554806|                 106.2152374|           105.3626149|      192.59296|           5.095961665|     10.6547454|         19.20340405|           135.4|                0|        0|     1.01|  59.92|    0|196.33|[16.0,0.00174]|\n",
            "|               a|       2016|      14|               5|                 248,942|248942|                 416|    0.00167|               0|                    298|            90|          68|WECC California|     WECC California|      829.7610664|      390.6009577|      382.8310719|    1603.193096|     1,603.19|          0.00644|         570.4275402|    255.7981782|          3.489939695|           0.045408263|                 390.6009577|                        0|                                0|                13.65493474|                 106.2358775|            92.4197325|     137.517632|           5.095961665|     10.6547454|         17.25218807|           96.68|                0|        0|     8.02|  15.95|    0|120.65|[14.0,0.00167]|\n",
            "|               a|       2020|      18|               1|                 248,942|248942|                 431|    0.00173|               0|                    326|            79|          66|WECC California|     WECC California|      808.5749245|      332.1683423|       355.064354|    1495.807621|     1,495.81|          0.00601|         640.2542734|    168.2752428|                    0|           0.045408263|                 332.1683423|                        0|                                0|                 14.0734062|                 83.70348516|           90.33877165|       137.9728|           5.108446552|      7.1031636|         16.76428085|              97|                0|        0|     5.48|  26.56|    0|129.04|[18.0,0.00173]|\n",
            "|               a|       2021|      19|               0|                 248,942|248942|                 360|    0.00145|               0|                    280|            51|          53|WECC California|     WECC California|      629.8516049|      276.3144658|      292.4152084|    1198.581279|     1,198.58|          0.00481|         544.6770062|    85.12919046|                    0|           0.045408263|                 276.3144658|                        0|                                0|                11.51460507|                 56.02621854|            2.08435969|     198.936864|           2.804618808|      7.1031636|         13.94537865|          139.86|                0|        0|     1.48|      0|    0|141.34|[19.0,0.00145]|\n",
            "|               b|       2014|      12|               7|                 285,371|285371|                 333|    0.00117|              45|                    252|            55|          59|           CALI|                CAMX|      560.1795459|       405.394005|      617.3530512|    1582.926602|     1,582.93|          0.00555|          272.319841|    102.2046316|          101.8042715|           83.85080182|                  405.394005|                        0|                                0|                32.08083552|                 156.9435355|           366.7569921|        -1.2135|           42.38987996|              0|          20.3953081|           40.45|                0|        0|     6.57|     60|   54|161.04|[12.0,0.00117]|\n",
            "|               b|       2015|      13|               6|                 285,371|285371|                 339|    0.00119|              45|                    260|            55|          59|           CALI|                CAMX|      416.9203723|      392.7482024|      615.4542595|    1425.122834|     1,425.12|          0.00499|         226.8800175|    94.59200492|          8.210021897|           87.23832797|                 392.7482024|                        0|                                0|                41.22297843|                 156.8529384|           362.8014824|        -0.6321|           35.44986049|              0|         19.75909977|           21.07|                0|        0|      8.8|  26.39|   70|126.65|[13.0,0.00119]|\n",
            "|               b|       2016|      14|               5|                 287,991|287991|                 337|    0.00117|              45|                    257|            55|          59|           CALI|                CAMX|      439.6387257|      403.8236787|      613.4372327|    1456.899637|     1,456.90|          0.00506|         228.7946168|    92.23877025|          32.84008759|           85.76525104|                 403.8236787|                        0|                                0|                38.93281296|                 156.8529384|            367.579182|        -0.7995|           30.55549416|              0|         20.31630523|           26.65|                0|        0|    15.96|  31.27|   29|102.82|[14.0,0.00117]|\n",
            "|               b|       2017|      15|               4|                 291,291|291291|                 340|    0.00117|              45|                    261|            55|          59|           CALI|                CAMX|      501.3461313|      77.26454626|      632.2363934|    1210.847071|     1,210.85|          0.00416|         255.3862738|    86.87797362|          70.74779985|           88.33408398|                 77.26454626|                        0|                                0|                39.92070953|                 158.7317356|            366.268674|          -0.81|           39.92826634|    8.967869468|         19.22913848|              27|                0|        0|    15.96|  31.27|   29|103.17|[15.0,0.00117]|\n",
            "|               b|       2018|      16|               3|                 291,291|291291|                 340|    0.00117|              45|                    261|            55|          59|           CALI|                CAMX|      501.3461313|      77.26454626|      632.2363934|    1210.847071|     1,210.85|          0.00416|         255.3862738|    86.87797362|          70.74779985|           88.33408398|                 77.26454626|                        0|                                0|                39.92070953|                 158.7317356|            366.268674|          -0.81|           39.92826634|    8.967869468|         19.22913848|              27|                0|        0|    15.96|  31.27|   29|103.17|[16.0,0.00117]|\n",
            "|               b|       2019|      17|               2|                 291,291|291291|                 340|    0.00117|              45|                    261|            55|          59|           CALI|                CAMX|      501.3461313|      77.26454626|      632.2363934|    1210.847071|     1,210.85|          0.00416|         255.3862738|    86.87797362|          70.74779985|           88.33408398|                 77.26454626|                        0|                                0|                39.92070953|                 158.7317356|            366.268674|          -0.81|           39.92826634|    8.967869468|         19.22913848|              27|                0|        0|    15.96|  31.27|   29|103.17|[17.0,0.00117]|\n",
            "|               b|       2020|      18|               1|                 291,291|291291|                 340|    0.00117|              45|                    261|            55|          59|           CALI|                CAMX|      501.3461313|      77.26454626|      632.2363934|    1210.847071|     1,210.85|          0.00416|         255.3862738|    86.87797362|          70.74779985|           88.33408398|                 77.26454626|                        0|                                0|                39.92070953|                 158.7317356|            366.268674|          -0.81|           39.92826634|    8.967869468|         19.22913848|              27|                0|        0|    15.96|  31.27|   29|103.17|[18.0,0.00117]|\n",
            "|               b|       2010|       8|              11|                 294,142|294142|                 329|    0.00112|              45|                    249|            55|          59|           CALI|                CAMX|       611.078071|      437.6962709|      588.4944052|    1637.268747|     1,637.27|          0.00557|         326.6678696|    102.4829846|          101.8042715|           80.12294521|                 437.6962709|                        0|                                0|                34.52866411|                 157.6574531|            321.048727|         -1.389|           44.51199493|              0|         32.13656605|            46.3|                0|        0|     4.33|     20|    0| 70.63| [8.0,0.00112]|\n",
            "|               b|       2011|       9|              10|                 294,142|294142|                 329|    0.00112|              45|                    249|            55|          59|           CALI|                CAMX|      639.9445893|      324.4257205|      553.3959755|    1517.766285|     1,517.77|          0.00516|         355.6846857|    102.3326869|          101.8042715|           80.12294521|                 324.4257205|                        0|                                0|                34.46245178|                 157.3551284|           296.6870251|         -1.389|           42.46036245|              0|         23.82000782|            46.3|                0|        0|     4.33|     20|    0| 70.63| [9.0,0.00112]|\n",
            "|               b|       2012|      10|               9|                 295,377|295377|                 335|    0.00113|              45|                    256|            55|          59|           CALI|                CAMX|      610.4002929|      350.1375935|      547.7457435|     1508.28363|     1,508.28|          0.00511|         326.2211297|    102.2519464|          101.8042715|           80.12294521|                 350.1375935|                        0|                                0|                41.27059872|                 157.0341331|           285.1336886|         -1.389|           44.28139839|              0|         21.41492466|            46.3|                0|        0|    11.24|     50|   35|142.27|[10.0,0.00113]|\n",
            "|               b|       2013|      11|               8|                 295,577|295577|                 330|    0.00112|              45|                    249|            55|          59|           CALI|                CAMX|      586.3172728|      358.2980045|        617.79416|    1562.409437|     1,562.41|          0.00529|         303.3948514|    102.2378236|          101.8042715|           78.88032635|                 358.2980045|                        0|                                0|                32.09318158|                 157.0039341|           369.0018907|        -1.9977|           39.77882636|              0|         21.91402727|           66.59|                0|        0|     8.57|     60|  231| 365.8|[11.0,0.00112]|\n",
            "|               c|       2013|      11|               8|                 302,010|302010|               2,222|    0.00736|               0|                   2599|           157|         207| WECC Southwest|AZNM: WECC Southwest|       226.532461|       3254.06668|      3162.866908|     6643.46605|     6,643.47|          0.02200|         134.8754976|    14.90747141|          73.70876013|             3.0407319|                  3254.06668|                        0|                                0|                1831.397567|                   720.79701|           152.1606292|     193.729536|           19.02809244|    46.73062053|         199.0234528|          360.36|                0|        0|        0|      0|    0|360.36|[11.0,0.00736]|\n",
            "|               c|       2014|      12|               7|                 302,010|302010|               2,130|    0.00705|               0|                   2472|           161|         206| WECC Southwest|AZNM: WECC Southwest|       183.552418|      2409.699256|      2634.651771|    5227.903446|     5,227.90|          0.01731|         94.33377871|    12.46914726|          73.70876013|             3.0407319|                 2409.699256|                        0|                                0|                  1759.6991|                 492.6273827|           7.929045563|     185.657472|           19.02809244|    48.47909157|         121.2315874|          360.36|                0|        0|        0|      0|    0|360.36|[12.0,0.00705]|\n",
            "|               c|       2016|      14|               5|                 302,010|302010|               1,979|    0.00655|               0|                   2275|           150|         214| WECC Southwest|AZNM: WECC Southwest|      243.8621092|      2644.630592|      1962.645782|    4851.138483|     4,851.14|          0.01606|         148.8661766|    19.19745138|          73.70876013|             2.0897211|                 2644.630592|                        0|                                0|                960.1392524|                 459.4700122|           188.1540205|     185.657472|           18.46026922|    34.35472395|         116.4100318|          360.36|                0|        0|        0|      0|    0|360.36|[14.0,0.00655]|\n",
            "+----------------+-----------+--------+----------------+------------------------+------+--------------------+-----------+----------------+-----------------------+--------------+------------+---------------+--------------------+-----------------+-----------------+-----------------+---------------+-------------+-----------------+--------------------+---------------+---------------------+----------------------+----------------------------+-------------------------+---------------------------------+---------------------------+----------------------------+----------------------+---------------+----------------------+---------------+--------------------+----------------+-----------------+---------+---------+-------+-----+------+--------------+\n",
            "only showing top 20 rows\n",
            "\n"
          ]
        }
      ]
    },
    {
      "cell_type": "code",
      "source": [
        "train, test = df.randomSplit([0.7, 0.3], seed=0)\n",
        "print(\"Training Dataset Count: \" + str(train.count()))\n",
        "print(\"Test Dataset Count: \" + str(test.count()))"
      ],
      "metadata": {
        "colab": {
          "base_uri": "https://localhost:8080/"
        },
        "id": "-7TEA_7vZEci",
        "outputId": "9dab9167-090a-4109-91ed-e54592b1518a"
      },
      "execution_count": null,
      "outputs": [
        {
          "output_type": "stream",
          "name": "stdout",
          "text": [
            "Training Dataset Count: 186\n",
            "Test Dataset Count: 76\n"
          ]
        }
      ]
    },
    {
      "cell_type": "code",
      "source": [
        "from pyspark.ml.regression import RandomForestRegressor\n",
        "rf = RandomForestRegressor(featuresCol=\"feature_vector\",\n",
        "                           labelCol=\"net_mtcde_per_gsf\",\n",
        "                           maxDepth=5,\n",
        "                           maxBins=1000)\n",
        "rf.setSeed(0)\n",
        "rfModel = rf.fit(train)"
      ],
      "metadata": {
        "id": "PpTmxhWvaThn"
      },
      "execution_count": null,
      "outputs": []
    },
    {
      "cell_type": "code",
      "source": [
        "# infer output for test vectors\n",
        "# automatically add inferences col \"prediction\" to test df\n",
        "predictions_test = rfModel.transform(test)\n",
        "\n",
        "predictions_test.select(\"feature_vector\", \"net_mtcde_per_gsf\", \"prediction\").show(25)\n",
        "\n",
        "#calc mean squared error and evaluate, consider cross val, k fold val"
      ],
      "metadata": {
        "colab": {
          "base_uri": "https://localhost:8080/"
        },
        "id": "LG74m7Tuaizn",
        "outputId": "3203814d-58ca-4dc7-e07b-ac0000da0a9b"
      },
      "execution_count": null,
      "outputs": [
        {
          "output_type": "stream",
          "name": "stdout",
          "text": [
            "+--------------+-----------------+--------------------+\n",
            "|feature_vector|net_mtcde_per_gsf|          prediction|\n",
            "+--------------+-----------------+--------------------+\n",
            "|[14.0,0.00167]|          0.00644|0.007891433872905432|\n",
            "|[18.0,0.00173]|          0.00601|0.007549695851077...|\n",
            "|[10.0,0.00113]|          0.00511|0.007064230483022611|\n",
            "|[14.0,0.00655]|          0.01606|0.023200471346015095|\n",
            "|[15.0,0.00644]|          0.01342|0.021103293240093236|\n",
            "| [4.0,0.00397]|          0.01773| 0.01738335622412008|\n",
            "| [5.0,0.00451]|          0.01497|0.016992710808270677|\n",
            "| [6.0,0.00443]|          0.01449|0.014311072196342303|\n",
            "| [9.0,0.00432]|          0.01354| 0.01138694609310614|\n",
            "|[12.0,0.00473]|          0.01095|0.015451013374911022|\n",
            "|[13.0,0.00539]|          0.01101| 0.01600861586408851|\n",
            "|[15.0,0.00508]|          0.00967|0.015927005465597478|\n",
            "|[10.0,0.00248]|          0.00976|0.010507178241045039|\n",
            "|  [8.0,0.0056]|          0.01409|0.013740696931869304|\n",
            "| [9.0,0.00556]|          0.01389|0.013213568143990514|\n",
            "| [12.0,0.0059]|          0.01539|0.022027168823326428|\n",
            "|[19.0,0.00421]|          0.00867| 0.01377135820782965|\n",
            "| [9.0,0.00215]|          0.01132|0.010372012475814332|\n",
            "|[10.0,0.00211]|          0.01042|0.009865041308971263|\n",
            "|[13.0,0.00216]|          0.01293|0.010065331656849117|\n",
            "| [2.0,0.00185]|          0.01102|0.009285681715506717|\n",
            "| [3.0,0.00191]|          0.01068|0.008919923382173383|\n",
            "| [6.0,0.00195]|          0.00859|0.009953228937728941|\n",
            "|[13.0,0.00203]|          0.00791| 0.00932999012216507|\n",
            "| [7.0,0.00384]|          0.01298|0.013394367469818827|\n",
            "+--------------+-----------------+--------------------+\n",
            "only showing top 25 rows\n",
            "\n"
          ]
        }
      ]
    },
    {
      "cell_type": "code",
      "source": [
        "# train model to be saved for app, training using all data (wouldnt do it this way if I wasnt in a rush making a starter prototype)\n",
        "from pyspark.ml.regression import RandomForestRegressor\n",
        "rf = RandomForestRegressor(featuresCol=\"feature_vector\",\n",
        "                           labelCol=\"net_mtcde_per_gsf\",\n",
        "                           maxDepth=5,\n",
        "                           maxBins=1000)\n",
        "rf.setSeed(0)\n",
        "rfModel = rf.fit(df)"
      ],
      "metadata": {
        "id": "IERCEl7RGI3B"
      },
      "execution_count": null,
      "outputs": []
    },
    {
      "cell_type": "code",
      "source": [
        "# use this in app to return outputs to user, using user's data\n",
        "predictions = rfModel.transform(test)"
      ],
      "metadata": {
        "id": "F8fjLSRTaK6b"
      },
      "execution_count": null,
      "outputs": []
    },
    {
      "cell_type": "code",
      "source": [
        "from google.colab import drive\n",
        "drive.mount('/content/')\n",
        "#drive.mount('/content/drive/')"
      ],
      "metadata": {
        "colab": {
          "base_uri": "https://localhost:8080/",
          "height": 345
        },
        "id": "JGMw4sUBg8Hn",
        "outputId": "a51bd144-3718-4816-98a5-af195ca4c4d3"
      },
      "execution_count": null,
      "outputs": [
        {
          "output_type": "error",
          "ename": "ValueError",
          "evalue": "ignored",
          "traceback": [
            "\u001b[0;31m---------------------------------------------------------------------------\u001b[0m",
            "\u001b[0;31mValueError\u001b[0m                                Traceback (most recent call last)",
            "\u001b[0;32m<ipython-input-16-9cef2e21b996>\u001b[0m in \u001b[0;36m<module>\u001b[0;34m()\u001b[0m\n\u001b[1;32m      1\u001b[0m \u001b[0;32mfrom\u001b[0m \u001b[0mgoogle\u001b[0m\u001b[0;34m.\u001b[0m\u001b[0mcolab\u001b[0m \u001b[0;32mimport\u001b[0m \u001b[0mdrive\u001b[0m\u001b[0;34m\u001b[0m\u001b[0;34m\u001b[0m\u001b[0m\n\u001b[0;32m----> 2\u001b[0;31m \u001b[0mdrive\u001b[0m\u001b[0;34m.\u001b[0m\u001b[0mmount\u001b[0m\u001b[0;34m(\u001b[0m\u001b[0;34m'/content/'\u001b[0m\u001b[0;34m)\u001b[0m\u001b[0;34m\u001b[0m\u001b[0;34m\u001b[0m\u001b[0m\n\u001b[0m\u001b[1;32m      3\u001b[0m \u001b[0;31m#drive.mount('/content/drive/')\u001b[0m\u001b[0;34m\u001b[0m\u001b[0;34m\u001b[0m\u001b[0;34m\u001b[0m\u001b[0m\n",
            "\u001b[0;32m/usr/local/lib/python3.7/dist-packages/google/colab/drive.py\u001b[0m in \u001b[0;36mmount\u001b[0;34m(mountpoint, force_remount, timeout_ms)\u001b[0m\n\u001b[1;32m    107\u001b[0m       \u001b[0mforce_remount\u001b[0m\u001b[0;34m=\u001b[0m\u001b[0mforce_remount\u001b[0m\u001b[0;34m,\u001b[0m\u001b[0;34m\u001b[0m\u001b[0;34m\u001b[0m\u001b[0m\n\u001b[1;32m    108\u001b[0m       \u001b[0mtimeout_ms\u001b[0m\u001b[0;34m=\u001b[0m\u001b[0mtimeout_ms\u001b[0m\u001b[0;34m,\u001b[0m\u001b[0;34m\u001b[0m\u001b[0;34m\u001b[0m\u001b[0m\n\u001b[0;32m--> 109\u001b[0;31m       ephemeral=True)\n\u001b[0m\u001b[1;32m    110\u001b[0m \u001b[0;34m\u001b[0m\u001b[0m\n\u001b[1;32m    111\u001b[0m \u001b[0;34m\u001b[0m\u001b[0m\n",
            "\u001b[0;32m/usr/local/lib/python3.7/dist-packages/google/colab/drive.py\u001b[0m in \u001b[0;36m_mount\u001b[0;34m(mountpoint, force_remount, timeout_ms, ephemeral)\u001b[0m\n\u001b[1;32m    181\u001b[0m       \u001b[0;32mraise\u001b[0m \u001b[0mValueError\u001b[0m\u001b[0;34m(\u001b[0m\u001b[0;34m'Mountpoint must not be a symlink'\u001b[0m\u001b[0;34m)\u001b[0m\u001b[0;34m\u001b[0m\u001b[0;34m\u001b[0m\u001b[0m\n\u001b[1;32m    182\u001b[0m     \u001b[0;32mif\u001b[0m \u001b[0m_os\u001b[0m\u001b[0;34m.\u001b[0m\u001b[0mpath\u001b[0m\u001b[0;34m.\u001b[0m\u001b[0misdir\u001b[0m\u001b[0;34m(\u001b[0m\u001b[0mmountpoint\u001b[0m\u001b[0;34m)\u001b[0m \u001b[0;32mand\u001b[0m \u001b[0m_os\u001b[0m\u001b[0;34m.\u001b[0m\u001b[0mlistdir\u001b[0m\u001b[0;34m(\u001b[0m\u001b[0mmountpoint\u001b[0m\u001b[0;34m)\u001b[0m\u001b[0;34m:\u001b[0m\u001b[0;34m\u001b[0m\u001b[0;34m\u001b[0m\u001b[0m\n\u001b[0;32m--> 183\u001b[0;31m       \u001b[0;32mraise\u001b[0m \u001b[0mValueError\u001b[0m\u001b[0;34m(\u001b[0m\u001b[0;34m'Mountpoint must not already contain files'\u001b[0m\u001b[0;34m)\u001b[0m\u001b[0;34m\u001b[0m\u001b[0;34m\u001b[0m\u001b[0m\n\u001b[0m\u001b[1;32m    184\u001b[0m     \u001b[0;32mif\u001b[0m \u001b[0;32mnot\u001b[0m \u001b[0m_os\u001b[0m\u001b[0;34m.\u001b[0m\u001b[0mpath\u001b[0m\u001b[0;34m.\u001b[0m\u001b[0misdir\u001b[0m\u001b[0;34m(\u001b[0m\u001b[0mmountpoint\u001b[0m\u001b[0;34m)\u001b[0m \u001b[0;32mand\u001b[0m \u001b[0m_os\u001b[0m\u001b[0;34m.\u001b[0m\u001b[0mpath\u001b[0m\u001b[0;34m.\u001b[0m\u001b[0mexists\u001b[0m\u001b[0;34m(\u001b[0m\u001b[0mmountpoint\u001b[0m\u001b[0;34m)\u001b[0m\u001b[0;34m:\u001b[0m\u001b[0;34m\u001b[0m\u001b[0;34m\u001b[0m\u001b[0m\n\u001b[1;32m    185\u001b[0m       \u001b[0;32mraise\u001b[0m \u001b[0mValueError\u001b[0m\u001b[0;34m(\u001b[0m\u001b[0;34m'Mountpoint must either be a directory or not exist'\u001b[0m\u001b[0;34m)\u001b[0m\u001b[0;34m\u001b[0m\u001b[0;34m\u001b[0m\u001b[0m\n",
            "\u001b[0;31mValueError\u001b[0m: Mountpoint must not already contain files"
          ]
        }
      ]
    },
    {
      "cell_type": "code",
      "source": [
        "# save model to path - debug \n",
        "rfModel.write().overwrite().save(\"/content/inference_rfmodel\")\n",
        "#rf.save(\"/content/drive/My Drive/x/rfModel\")"
      ],
      "metadata": {
        "id": "1KEW7UvDg8KO"
      },
      "execution_count": null,
      "outputs": []
    },
    {
      "cell_type": "code",
      "source": [
        "# save model using Joblib - debug\n",
        "from joblib import dump\n",
        "dump(rfModel, 'Inference_rfModel.joblib')"
      ],
      "metadata": {
        "id": "23JHXlIOjoG4"
      },
      "execution_count": null,
      "outputs": []
    },
    {
      "cell_type": "markdown",
      "source": [
        "# inference.py"
      ],
      "metadata": {
        "id": "FC7JR-mDikih"
      }
    },
    {
      "cell_type": "code",
      "source": [
        "from google.colab import files\n",
        "uploaded_inf = files.upload()"
      ],
      "metadata": {
        "id": "2mPqmUz4ikih"
      },
      "execution_count": null,
      "outputs": []
    },
    {
      "cell_type": "code",
      "source": [
        "from pyspark.sql import SparkSession\n",
        "\n",
        "spark = SparkSession\\\n",
        "        .builder\\\n",
        "        .appName(\"PySpark Deployed Machine Learning with Unit Testing\")\\\n",
        "        .master(\"local[*]\")\\\n",
        "        .getOrCreate()"
      ],
      "metadata": {
        "id": "MbS604R9ibYz"
      },
      "execution_count": null,
      "outputs": []
    },
    {
      "cell_type": "code",
      "source": [
        "rdd = spark.read.csv(\"sustainability_inference.csv\", header=True).rdd"
      ],
      "metadata": {
        "id": "PnItdL8Sibbk"
      },
      "execution_count": null,
      "outputs": []
    },
    {
      "cell_type": "code",
      "source": [
        "# Persist RDD --- run unit test with these two persist methods as separate user-defined functions in a class, and unit test base as other class, with actual unit test in a third class with the two unit test functions\n",
        "from pyspark.storagelevel import StorageLevel\n",
        "\n",
        "# persist without serialization\n",
        "rdd_serialize = rdd\n",
        "rdd_serialize.persist(StorageLevel.DISK_ONLY)\n",
        "####!!!! add unittest1 around this\n",
        "rdd_serialize.unpersist()\n",
        "\n",
        "# persist serialized\n",
        "rdd_unserialize = rdd\n",
        "rdd_unserialize.persist(StorageLevel.MEMORY_AND_DISK)\n",
        "####!!!!! add unittest2 around this\n",
        "rdd_unserialize.unpersist()"
      ],
      "metadata": {
        "id": "vN18jUQ-ibeY"
      },
      "execution_count": null,
      "outputs": []
    },
    {
      "cell_type": "code",
      "source": [
        "# convert rdd to df\n",
        "# df for preprocessing\n",
        "df = rdd.toDF()\n",
        "\n",
        "# change type to float or int for feature and output cols\n",
        "from pyspark.sql.types import DecimalType, IntegerType\n",
        "decimal = DecimalType(precision=20, scale=5)\n",
        "df = df \\\n",
        "      .withColumn(\"timestep\",\n",
        "                  df[\"timestep\"]\n",
        "                  .cast(IntegerType()))     \\\n",
        "      .withColumn(\"fte_per_gsf\",\n",
        "                   df[\"fte_per_gsf\"]\n",
        "                   .cast(decimal))    \\\n",
        "      .withColumn(\"net_mtcde_per_gsf\",\n",
        "                   df[\"net_mtcde_per_gsf\"]\n",
        "                   .cast(decimal))"
      ],
      "metadata": {
        "id": "a6b6-Kl7aOQ2"
      },
      "execution_count": null,
      "outputs": []
    },
    {
      "cell_type": "code",
      "source": [
        "from pyspark.ml.feature import VectorAssembler\n",
        "\n",
        "feature_cols = [\n",
        "            \"timestep\",\n",
        "            \"fte_per_gsf\"\n",
        "]\n",
        "assembler = VectorAssembler(inputCols=feature_cols,\n",
        "                            outputCol=\"feature_vector\")\n",
        "df = assembler.transform(df)\n",
        "df.show()"
      ],
      "metadata": {
        "id": "kbTWK6UylQ2_"
      },
      "execution_count": null,
      "outputs": []
    },
    {
      "cell_type": "code",
      "source": [
        "# load saved model file\n",
        "from joblib import load\n",
        "rfModel_loaded = load(\"/content/Inference_rfModel.joblib\")"
      ],
      "metadata": {
        "id": "NJNiTIO1lQ5m"
      },
      "execution_count": null,
      "outputs": []
    },
    {
      "cell_type": "code",
      "source": [
        "# load saved model file\n",
        "import joblib\n",
        "joblib.load(\"/content/Inference_rfModel.joblib\")"
      ],
      "metadata": {
        "id": "5Kfiid4lCgMM"
      },
      "execution_count": null,
      "outputs": []
    },
    {
      "cell_type": "code",
      "source": [
        "predictions_test = rfModel.transform(test)\n",
        "\n",
        "predictions_test.select(\"feature_vector\", \"net_mtcde_per_gsf\", \"prediction\").show(25)"
      ],
      "metadata": {
        "id": "kjUajAjFlQ79"
      },
      "execution_count": null,
      "outputs": []
    },
    {
      "cell_type": "code",
      "source": [
        ""
      ],
      "metadata": {
        "id": "KVj-sWU7lQ-F"
      },
      "execution_count": null,
      "outputs": []
    },
    {
      "cell_type": "code",
      "source": [
        ""
      ],
      "metadata": {
        "id": "YY6Cp-VtlRAI"
      },
      "execution_count": null,
      "outputs": []
    },
    {
      "cell_type": "code",
      "source": [
        ""
      ],
      "metadata": {
        "id": "rgi84NnelRCN"
      },
      "execution_count": null,
      "outputs": []
    },
    {
      "cell_type": "code",
      "source": [
        ""
      ],
      "metadata": {
        "id": "sZ2r-ULuGI7A"
      },
      "execution_count": null,
      "outputs": []
    },
    {
      "cell_type": "code",
      "source": [
        "from pyspark.mllib.feature import StandardScaler\n",
        "standardizer = StandardScaler(True, True)\n",
        "X = standardizer.fit(X).transform(X)"
      ],
      "metadata": {
        "id": "UdoR0TOsu7ny"
      },
      "execution_count": null,
      "outputs": []
    },
    {
      "cell_type": "code",
      "source": [
        "output.show()"
      ],
      "metadata": {
        "id": "xV-15eW41ScU"
      },
      "execution_count": null,
      "outputs": []
    },
    {
      "cell_type": "code",
      "source": [
        ""
      ],
      "metadata": {
        "id": "AVuxCe0W1ShB"
      },
      "execution_count": null,
      "outputs": []
    },
    {
      "cell_type": "code",
      "source": [
        ""
      ],
      "metadata": {
        "id": "GXsfo3bW1SjU"
      },
      "execution_count": null,
      "outputs": []
    },
    {
      "cell_type": "code",
      "source": [
        ""
      ],
      "metadata": {
        "id": "_K5hpS0s1Sm4"
      },
      "execution_count": null,
      "outputs": []
    },
    {
      "cell_type": "code",
      "source": [
        "from pyspark.ml.regression import LinearRegression\n",
        "reg = LinearRegression()\n",
        "model = reg.fit(df)\n",
        "model.setFeaturesCol(\"X\")\n",
        "model.setPredictionCol(\"y\")\n"
      ],
      "metadata": {
        "id": "PEdMUFbbu2iN"
      },
      "execution_count": null,
      "outputs": []
    },
    {
      "cell_type": "code",
      "source": [
        ""
      ],
      "metadata": {
        "id": "vUjIgzktu2kn"
      },
      "execution_count": null,
      "outputs": []
    },
    {
      "cell_type": "code",
      "source": [
        ""
      ],
      "metadata": {
        "id": "7PLnLRlyu2oN"
      },
      "execution_count": null,
      "outputs": []
    },
    {
      "cell_type": "code",
      "source": [
        "# select rdd X so X can be standardized\n",
        "# X is an rdd\n",
        "\n",
        "rdd.collect(\n",
        "    \"timestep\",\n",
        "    \"fte_per_gsf\"\n",
        ")\n",
        "\n",
        "#X = "
      ],
      "metadata": {
        "id": "xiMg3I5OrYdf"
      },
      "execution_count": null,
      "outputs": []
    },
    {
      "cell_type": "code",
      "source": [
        "from pyspark.mllib.feature import StandardScaler\n",
        "standardizer = StandardScaler(True, True)\n",
        "X = standardizer.fit_transform(X)"
      ],
      "metadata": {
        "id": "rFzbPTkcqiuW"
      },
      "execution_count": null,
      "outputs": []
    },
    {
      "cell_type": "code",
      "source": [
        ""
      ],
      "metadata": {
        "id": "hxvdoUA6qiz2"
      },
      "execution_count": null,
      "outputs": []
    },
    {
      "cell_type": "code",
      "source": [
        "rdd = rdd.na.drop()\n",
        "rdd.count()"
      ],
      "metadata": {
        "id": "vbVJIEUPbGeD"
      },
      "execution_count": null,
      "outputs": []
    },
    {
      "cell_type": "code",
      "source": [
        "rdd.show(10)"
      ],
      "metadata": {
        "id": "q1roJZAkgjxZ"
      },
      "execution_count": null,
      "outputs": []
    },
    {
      "cell_type": "code",
      "source": [
        "X = rdd.fiter(feature_cols)"
      ],
      "metadata": {
        "id": "amkzkapAo7k4"
      },
      "execution_count": null,
      "outputs": []
    },
    {
      "cell_type": "code",
      "source": [
        ""
      ],
      "metadata": {
        "id": "apSXbUKAhbFC"
      },
      "execution_count": null,
      "outputs": []
    },
    {
      "cell_type": "code",
      "source": [
        ""
      ],
      "metadata": {
        "id": "XJh-Txjlh4-J"
      },
      "execution_count": null,
      "outputs": []
    },
    {
      "cell_type": "code",
      "source": [
        ""
      ],
      "metadata": {
        "id": "Pw3tRt6Oh5BD"
      },
      "execution_count": null,
      "outputs": []
    },
    {
      "cell_type": "code",
      "source": [
        ""
      ],
      "metadata": {
        "id": "8YSktisHh5lj"
      },
      "execution_count": null,
      "outputs": []
    },
    {
      "cell_type": "code",
      "source": [
        ""
      ],
      "metadata": {
        "id": "3gMqZGZph5ro"
      },
      "execution_count": null,
      "outputs": []
    },
    {
      "cell_type": "code",
      "source": [
        ""
      ],
      "metadata": {
        "id": "IPorGgt3h5xk"
      },
      "execution_count": null,
      "outputs": []
    },
    {
      "cell_type": "code",
      "source": [
        "#3\n",
        "from pyspark.sql import DataFrameReader\n",
        "from pyspark.sql.types import StructType, StructField, StringType, IntegerType, DecimalType\n",
        "\n",
        "# lazy evaluation\n",
        "# user-defined schema to optimize Spark by causing less jobs to run (\"inferSchema would cause 2nd job to run)\n",
        "# False means that the schema rejects null values (those samples are rejected from the DataFrame)\n",
        "csvSchema = StructType([StructField(\"institution_name\", StringType(), True)],\n",
        "                       [StructField(\"timestep\", IntegerType(), True)],\n",
        "                       [StructField(\"fte_per_gsf\", DecimalType(precision=20,scale=5), True)],\n",
        "                       [StructField(\"net_mtcde_per_gsf\", DecimalType(precision=20,scale=5), True)],\n",
        "                       [StructField(\"gsf\", DecimalType(precision=20,scale=5), True)])\n",
        "\n",
        "df = DataFrameReader.format(\"csv\").schema(csvSchema).load(io.BytesIO(uploaded))"
      ],
      "metadata": {
        "id": "52bRxkkIQL4U"
      },
      "execution_count": null,
      "outputs": []
    },
    {
      "cell_type": "code",
      "source": [
        "#3\n",
        "from pyspark.sql import DataFrameReader\n",
        "from pyspark.sql.types import StructType, StructField, StringType, IntegerType, DecimalType\n",
        "\n",
        "# lazy evaluation\n",
        "# user-defined schema to optimize Spark by causing less jobs to run (\"inferSchema would cause 2nd job to run)\n",
        "# False means that the schema rejects null values (those samples are rejected from the DataFrame)\n",
        "csvSchema = StructType([StructField(\"institution_name\", StringType(), False)],\n",
        "                       [StructField(\"timestep\", IntegerType(), False)],\n",
        "                       [StructField(\"fte_per_gsf\", DecimalType(precision=20,scale=5), False)],\n",
        "                       [StructField(\"net_mtcde_per_gsf\", DecimalType(precision=20,scale=5), False)],\n",
        "                       [StructField(\"gsf\", DecimalType(precision=20,scale=5), False)])\n",
        "\n",
        "df = DataFrameReader.format(\"csv\").schema(csvSchema).load(io.BytesIO(uploaded))"
      ],
      "metadata": {
        "id": "lOazhgK22QUb"
      },
      "execution_count": null,
      "outputs": []
    },
    {
      "cell_type": "code",
      "execution_count": null,
      "metadata": {
        "id": "-AnNtqUQesY0"
      },
      "outputs": [],
      "source": [
        "import pandas as pd\n",
        "import io\n",
        "\n",
        "filename = next(iter(uploaded))\n",
        "\n",
        "#(..., index_col='id')\n",
        "dataset = pd.read_csv(io.BytesIO(uploaded['{}'.format(filename)]), skiprows=0)\n",
        "\n",
        "df = dataset[['institution_name', 'timestep', 'fte_per_gsf', 'net_mtcde_per_gsf', 'gsf']].astype({\n",
        "    'institution_name' : 'str',\n",
        "    'timestep' : 'int',\n",
        "    'fte_per_gsf' : 'float',\n",
        "    'net_mtcde_per_gsf' : 'float',\n",
        "    'gsf' : 'float'\n",
        "})"
      ]
    },
    {
      "cell_type": "code",
      "source": [
        "df = df.astype({\n",
        "    \n",
        "})"
      ],
      "metadata": {
        "id": "O2GVyz5IvBt8"
      },
      "execution_count": null,
      "outputs": []
    },
    {
      "cell_type": "code",
      "source": [
        "display(df)"
      ],
      "metadata": {
        "id": "OKsvnJ0U8v_f"
      },
      "execution_count": null,
      "outputs": []
    },
    {
      "cell_type": "code",
      "source": [
        "# Define features\n",
        "feature_cols = [\n",
        "            'timestep',\n",
        "            'fte_per_gsf'\n",
        "]          \n",
        "X = df[feature_cols]\n",
        "# Define target\n",
        "y = df.net_mtcde_per_gsf"
      ],
      "metadata": {
        "id": "wJNvOKMAuw1J"
      },
      "execution_count": null,
      "outputs": []
    },
    {
      "cell_type": "code",
      "source": [
        "from sklearn.linear_model import LinearRegression\n",
        "\n",
        "# Define Model\n",
        "reg = LinearRegression()\n",
        "\n",
        "reg.fit(X, y)"
      ],
      "metadata": {
        "id": "abBalehUuw3o"
      },
      "execution_count": null,
      "outputs": []
    },
    {
      "cell_type": "code",
      "source": [
        "from joblib import dump\n",
        "dump(reg, 'Inference_reg.joblib')"
      ],
      "metadata": {
        "id": "a-JzGC1NxCOB"
      },
      "execution_count": null,
      "outputs": []
    },
    {
      "cell_type": "markdown",
      "source": [
        "# inference.py"
      ],
      "metadata": {
        "id": "m2qf1cFH19KG"
      }
    },
    {
      "cell_type": "code",
      "source": [
        "from google.colab import files\n",
        "uploaded_inf = files.upload()"
      ],
      "metadata": {
        "id": "ZKibl5T7xCRA"
      },
      "execution_count": null,
      "outputs": []
    },
    {
      "cell_type": "code",
      "source": [
        "filename_inf = next(iter(uploaded_inf))\n",
        "\n",
        "#(..., index_col='id')\n",
        "dataset_inf = pd.read_csv(io.BytesIO(uploaded_inf['{}'.format(filename_inf)]), skiprows=0)\n",
        "\n",
        "df_inf = dataset_inf[['timestep', 'fte_per_gsf', 'net_mtcde_per_gsf', 'gsf']].astype({\n",
        "    'timestep' : 'int',\n",
        "    'fte_per_gsf' : 'float',\n",
        "    'net_mtcde_per_gsf' : 'float',\n",
        "    'gsf' : 'float'\n",
        "})"
      ],
      "metadata": {
        "id": "IzuWdnXexCU1"
      },
      "execution_count": null,
      "outputs": []
    },
    {
      "cell_type": "code",
      "source": [
        "# Define features\n",
        "feature_cols = [\n",
        "            'timestep',\n",
        "            'fte_per_gsf'\n",
        "]          \n",
        "X_inf = df_inf[feature_cols]\n",
        "# Define target\n",
        "y_inf = df_inf.net_mtcde_per_gsf"
      ],
      "metadata": {
        "id": "hq-pkmjtuw6A"
      },
      "execution_count": null,
      "outputs": []
    },
    {
      "cell_type": "code",
      "source": [
        "from joblib import load\n",
        "lin_reg = load('Inference_reg.joblib')"
      ],
      "metadata": {
        "id": "CG9adbHd3lH-"
      },
      "execution_count": null,
      "outputs": []
    },
    {
      "cell_type": "code",
      "source": [
        "print(\"Lin reg prediction:\")\n",
        "\n",
        "inference = lin_reg.predict(X_inf)\n",
        "print(inference)\n",
        "\n",
        "# de-normalize y inference to get total mtcde\n",
        "# multiply (mtcde/gsf) by gsf\n",
        "inf_total = inference * df_inf.gsf\n",
        "\n",
        "print(inf_total)"
      ],
      "metadata": {
        "id": "dIXTPEBu3sHv"
      },
      "execution_count": null,
      "outputs": []
    },
    {
      "cell_type": "code",
      "source": [
        "#add dataframe with fiscal year 2002 to 2049\n",
        "#band-aiding right now by making it a dataframe with fiscal year 2013 to 2049 for this inference only\n",
        "fy_inf = []\n",
        "i = 2013\n",
        "while len(fy_inf) < 37:\n",
        "  fy_inf.append(i)\n",
        "  i += 1"
      ],
      "metadata": {
        "id": "ulxdFYq37R8v"
      },
      "execution_count": null,
      "outputs": []
    },
    {
      "cell_type": "code",
      "source": [
        "dict_inf = {\n",
        "    'Fiscal Year' : fy_inf,\n",
        "    'Prediction' : inf_total\n",
        "}\n",
        "\n",
        "df_client = pd.DataFrame(dict_inf)\n",
        "df_client"
      ],
      "metadata": {
        "id": "rvWdnihK8lDZ"
      },
      "execution_count": null,
      "outputs": []
    },
    {
      "cell_type": "code",
      "source": [
        ""
      ],
      "metadata": {
        "id": "g9ldxcTe3lKb"
      },
      "execution_count": null,
      "outputs": []
    },
    {
      "cell_type": "code",
      "source": [
        ""
      ],
      "metadata": {
        "id": "NsveSVzNuw-8"
      },
      "execution_count": null,
      "outputs": []
    },
    {
      "cell_type": "code",
      "source": [
        "import pandas as pd\n",
        "from sklearn.model_selection import train_test_split\n",
        "#from sklearn.preprocessing import StandardScaler\n",
        "## Scale features\n",
        "#scaler = StandardScaler()\n",
        "#X_train = scaler.fit_transform(X_train)\n",
        "#X_valid = scaler.transform(X_valid)\n",
        "#X_test = scaler.transform(X_test)\n",
        "\n",
        "# Read the data\n",
        "X_full = df\n",
        "X_test_full = test_df\n",
        "\n",
        "# Break off validation set from training data\n",
        "X_train_full, X_valid_full, y_train, y_valid = train_test_split(X_full, y, \n",
        "                                                                train_size=0.8, test_size=0.2,\n",
        "                                                                random_state=0)\n",
        "\n",
        "# Define features\n",
        "feature_cols = [\n",
        "            'timestep',\n",
        "            'fte_per_gsf'\n",
        "]          \n",
        "X = df[feature_cols]\n",
        "# Define target\n",
        "y = df.net_mtcde_per_gsf\n",
        "\n",
        "# Keep selected columns only\n",
        "X_train = X_train_full[feature_cols].copy()\n",
        "X_valid = X_valid_full[feature_cols].copy()\n",
        "X_test = X_test_full[feature_cols].copy()"
      ],
      "metadata": {
        "id": "vIpbR6Mj8wMZ"
      },
      "execution_count": null,
      "outputs": []
    },
    {
      "cell_type": "code",
      "source": [
        "X_train.head()"
      ],
      "metadata": {
        "id": "cQYPiTFi8wPG"
      },
      "execution_count": null,
      "outputs": []
    },
    {
      "cell_type": "code",
      "source": [
        "from sklearn.linear_model import LinearRegression\n",
        "\n",
        "# Define Model\n",
        "model = LinearRegression()\n",
        "#try ridge/lasso/elasticnet\n",
        "\n",
        "model.fit(X_train, y_train)"
      ],
      "metadata": {
        "id": "lhewi3Dl8wSC"
      },
      "execution_count": null,
      "outputs": []
    },
    {
      "cell_type": "code",
      "source": [
        ""
      ],
      "metadata": {
        "id": "TIk2Sdoi8wWY"
      },
      "execution_count": null,
      "outputs": []
    },
    {
      "cell_type": "code",
      "source": [
        ""
      ],
      "metadata": {
        "id": "n45nK4V1AQRk"
      },
      "execution_count": null,
      "outputs": []
    },
    {
      "cell_type": "code",
      "source": [
        ""
      ],
      "metadata": {
        "id": "h_P6TlS-AQU1"
      },
      "execution_count": null,
      "outputs": []
    },
    {
      "cell_type": "code",
      "source": [
        ""
      ],
      "metadata": {
        "id": "69isx1UFAQZU"
      },
      "execution_count": null,
      "outputs": []
    },
    {
      "cell_type": "code",
      "source": [
        "#\n",
        "!pip install pyspark\n",
        "#"
      ],
      "metadata": {
        "id": "X642HqRl4MU9"
      },
      "execution_count": null,
      "outputs": []
    },
    {
      "cell_type": "code",
      "source": [
        "#https://stackoverflow.com/questions/56426069/how-to-read-xlsx-or-xls-files-as-spark-dataframe\n",
        "\n",
        "#spark = SparkSession.builder \\\n",
        "#.master(\"local\") \\\n",
        "#.appName(\"Net Zero\") \\\n",
        "#.config(\"spark.jars.packages\", \"com.crealytics:spark-excel_2.11:0.12.2\") \\\n",
        "#.getOrCreate()\n",
        "\n",
        "#df = spark.read.format(\"com.crealytics.spark.excel\") \\\n",
        "#.option(\"useHeader\", \"true\") \\\n",
        "#.option(\"inferSchema\", \"true\") \\\n",
        "#.option(\"dataAddress\", \"'NameOfYourExcelSheet'!A1\") \\\n",
        "#.load(\"your_file\"))"
      ],
      "metadata": {
        "id": "siF9_ol4_equ"
      },
      "execution_count": null,
      "outputs": []
    },
    {
      "cell_type": "code",
      "source": [
        "!pip install findspark"
      ],
      "metadata": {
        "id": "wm-NFj1EBne6"
      },
      "execution_count": null,
      "outputs": []
    },
    {
      "cell_type": "code",
      "source": [
        "import pandas as pd\n",
        "import findspark\n",
        "findspark.init()\n",
        "import pyspark\n",
        "from pyspark import SparkContext\n",
        "from pyspark.sql import SQLContext \n",
        "sc = SparkContext.getOrCreate()\n",
        "sql = SQLContext(sc)\n",
        "\n",
        "read = pd.read_excel(io.BytesIO(uploaded['{}'.format(filename)]),sheet_name=['{}'.format('1 _ Template - Only Historical')], skiprows=0)\n",
        "df = read['1 _ Template - Only Historical']\n",
        "\n",
        "df = sql.createDataFrame(df)\n",
        "\n",
        "df.show()\n",
        "\n",
        "sc"
      ],
      "metadata": {
        "id": "aLtkZ_CxBH_A"
      },
      "execution_count": null,
      "outputs": []
    },
    {
      "cell_type": "code",
      "source": [
        "from pyspark.ml.linalg import Vectors\n",
        "from pyspark.ml.feature import VectorAssembler\n",
        "\n",
        "assembler = VectorAssembler(inputCols = ['fy',\n",
        "                                         'fte',\n",
        "                                         'enrollment_change',\n",
        "                                         'gsf'],\n",
        "                            outputCol = 'features')\n",
        "df2 = assembler.transform(df)\n",
        "df3 = df2.select('features', 'total_s')\n",
        "\n",
        "df3.show()"
      ],
      "metadata": {
        "id": "2UowNpSktBhg"
      },
      "execution_count": null,
      "outputs": []
    },
    {
      "cell_type": "code",
      "source": [
        "train_data, test_data = df3.randomSplit([0.7, 0.3])"
      ],
      "metadata": {
        "id": "jV51jttStCQG"
      },
      "execution_count": null,
      "outputs": []
    },
    {
      "cell_type": "code",
      "source": [
        "from pyspark.ml.regression import LinearRegression\n",
        "\n",
        "lr = LinearRegression(featuresCol = 'features',\n",
        "                      labelCol = 'total_s')\n",
        "\n",
        "model = lr.fit(train_data)"
      ],
      "metadata": {
        "id": "kZEF0GUbtCSo"
      },
      "execution_count": null,
      "outputs": []
    },
    {
      "cell_type": "markdown",
      "source": [
        "im not sure how the model's \"evaluate\" method works...need to understand how it's allowing for r2 to be calulcated after only taking train_data as argument "
      ],
      "metadata": {
        "id": "-kwx185g2xe2"
      }
    },
    {
      "cell_type": "code",
      "source": [
        "results = model.evaluate(train_data)\n",
        "print('RSquaredError :', results.r2)"
      ],
      "metadata": {
        "id": "azMRjB5NtCU9"
      },
      "execution_count": null,
      "outputs": []
    },
    {
      "cell_type": "markdown",
      "source": [
        "Test Predictions"
      ],
      "metadata": {
        "id": "_1lthCW92pMG"
      }
    },
    {
      "cell_type": "code",
      "source": [
        "unlabeled_data = test_data.select('features')\n",
        "unlabeled_data.show()\n",
        "\n",
        "predictions = model.transform(unlabeled_data)\n",
        "predictions.show()"
      ],
      "metadata": {
        "id": "81gPkPqltCXY"
      },
      "execution_count": null,
      "outputs": []
    },
    {
      "cell_type": "code",
      "source": [
        "#prepare prediction set for Pathway To Zero:\n",
        "#final_train = ... :\n",
        "\n",
        "\n",
        "##reminder about code from top of program... :\n",
        "##df_emissions_future = mtcde_future['3 _ Template - Only Future']\n",
        "\n",
        "\n",
        "\n",
        "read_future = pd.read_excel(io.BytesIO(uploaded['{}'.format(filename)]),sheet_name=['{}'.format('3 _ Template - Only Future')], skiprows=0)\n",
        "df_future = read['1 _ Template - Only Historical']\n",
        "\n",
        "df_future = sql.createDataFrame(df_future)\n",
        "\n",
        "df_future.show()\n"
      ],
      "metadata": {
        "id": "kvwukoSRtCZ0"
      },
      "execution_count": null,
      "outputs": []
    },
    {
      "cell_type": "code",
      "source": [
        ""
      ],
      "metadata": {
        "id": "j5LvCnE12l0z"
      },
      "execution_count": null,
      "outputs": []
    },
    {
      "cell_type": "code",
      "source": [
        ""
      ],
      "metadata": {
        "id": "ks40c2lP2l4P"
      },
      "execution_count": null,
      "outputs": []
    },
    {
      "cell_type": "code",
      "source": [
        "#PySpark\n",
        "######## USE THIS INSTEAD, IF I CAN FIGURE OUT HOW TO READ EXCEL TABLE INTO PYSPARK DATAFRAME WITHOUT USING PANDAS AS MIDDLEMAN IN PIPELINE AS I PROGRAMMED ABOVE THIS KERNEL \n",
        "\n",
        "\n",
        "#from pyspark.sql import SparkSession\n",
        "\n",
        "\n",
        "\n",
        "#spark = SparkSession.builder.appName('Net_Zero_Predictor').getOrCreate()\n",
        "\n",
        "#df = spark.read.format(io.BytesIO(uploaded['{}'.format(filename)]),sheet_name=['{}'.format('1 _ Template - Only Historical')],\\\n",
        "                    skiprows=0, inferSchema=True, header=True)\n",
        "\n",
        "#df.show"
      ],
      "metadata": {
        "id": "3fsBNMyjsfzc"
      },
      "execution_count": null,
      "outputs": []
    },
    {
      "cell_type": "code",
      "execution_count": null,
      "metadata": {
        "id": "spZY_iZ5whyO"
      },
      "outputs": [],
      "source": [
        "display(df_emissions_history.head())\n",
        "display(df_emissions_full.head())\n",
        "display(df_emissions_future.head())"
      ]
    },
    {
      "cell_type": "markdown",
      "source": [
        "Fit Model to Predict Total Emissions from FY (draft for figuring out syntax before further editing the real model in the kernels below this)"
      ],
      "metadata": {
        "id": "fYQ4mwChlZ3a"
      }
    },
    {
      "cell_type": "code",
      "source": [
        "X = df_emissions_history.fy\n",
        "y = df_emissions_history.total_s\n",
        "#will need to change total_s to total.\n",
        "\n",
        "#from sklearn.linear_model import LinearRegression as reg\n",
        "\n",
        "from sklearn import linear_model\n",
        "\n",
        "reg = linear_model.LinearRegression()\n",
        "\n",
        "reg.fit(df_emissions_history[['fy']], y)\n",
        "\n",
        "print(reg.coef_)\n",
        "print(reg.intercept_)"
      ],
      "metadata": {
        "id": "SgY9VxSwfeu2"
      },
      "execution_count": null,
      "outputs": []
    },
    {
      "cell_type": "code",
      "source": [
        "reg.predict([[2022]])"
      ],
      "metadata": {
        "id": "k5PmemlEjG1_"
      },
      "execution_count": null,
      "outputs": []
    },
    {
      "cell_type": "code",
      "source": [
        ""
      ],
      "metadata": {
        "id": "rWEvrZ-6jG9Z"
      },
      "execution_count": null,
      "outputs": []
    },
    {
      "cell_type": "code",
      "source": [
        ""
      ],
      "metadata": {
        "id": "ACKpAuxljHBS"
      },
      "execution_count": null,
      "outputs": []
    },
    {
      "cell_type": "code",
      "source": [
        ""
      ],
      "metadata": {
        "id": "LFwY2GDSkB3j"
      },
      "execution_count": null,
      "outputs": []
    },
    {
      "cell_type": "markdown",
      "source": [
        "Fit Model to predict Total Emissions from FY & Enrollment & GSF"
      ],
      "metadata": {
        "id": "amdr7iJylQ0T"
      }
    },
    {
      "cell_type": "code",
      "source": [
        "X = df_emissions_history.fy\n",
        "y = df_emissions_history.total_s\n",
        "#will need to change total_s to total.\n",
        "\n",
        "#from sklearn.linear_model import LinearRegression as reg\n",
        "\n",
        "from sklearn import linear_model\n",
        "\n",
        "reg = linear_model.LinearRegression()\n",
        "\n",
        "reg.fit(df_emissions_history[['fy','enrollment_change','gsf']], y)\n",
        "\n",
        "print(reg.coef_)\n",
        "print(reg.intercept_)"
      ],
      "metadata": {
        "id": "LZpu_ilDkB6F"
      },
      "execution_count": null,
      "outputs": []
    },
    {
      "cell_type": "code",
      "source": [
        "print( reg.predict([[2013,-0.017,302010]]) )\n",
        "print( reg.predict([[2014,-0.049,302010]]) )\n",
        "print( reg.predict([[2015,-0.062,302010]]) )\n",
        "print( reg.predict([[2016,-0.019,302010]]) )\n",
        "print( reg.predict([[2017,-0.016,302010]]) )\n",
        "print( reg.predict([[2018,0.030,302010]]) )\n",
        "print( reg.predict([[2019,-0.065,351388]]) )\n",
        "print( reg.predict([[2020,0.000,351388]]) )\n",
        "print( reg.predict([[2021,0.042,333702]]) )\n",
        "print( reg.predict([[2022,-0.005,333702]]) )\n",
        "print( reg.predict([[2023,0.015,333702]]) )\n",
        "print( reg.predict([[2024,-0.005,333702]]) )\n",
        "print( reg.predict([[2025,0.030,333702]]) )\n",
        "print( reg.predict([[2026,-0.020,333702]]) )\n",
        "print( reg.predict([[2027,-0.035,333702]]) )\n",
        "print( reg.predict([[2028,-0.025,333702]]) )\n",
        "print( reg.predict([[2029,-0.020,333702]]) )\n",
        "print( reg.predict([[2030,-0.010,333702]]) )\n",
        "print( reg.predict([[2031,0.040,333702]]) )\n",
        "print( reg.predict([[2032,0.015,333702]]) )\n",
        "print( reg.predict([[2033,-0.025,333702]]) )\n",
        "print( reg.predict([[2034,-0.010,333702]]) )\n",
        "print( reg.predict([[2035,-0.010,333702]]) )\n",
        "print( reg.predict([[2036,-0.010,333702]]) )\n",
        "print( reg.predict([[2037,-0.010,333702]]) )\n",
        "\n",
        "#reg.predict([[2027,-0.035,333702]])\n",
        "#reg.predict([[2031,0.040,333702]])"
      ],
      "metadata": {
        "id": "NOTsOSGekB8e"
      },
      "execution_count": null,
      "outputs": []
    },
    {
      "cell_type": "code",
      "source": [
        ""
      ],
      "metadata": {
        "id": "QNTq6PptlKe7"
      },
      "execution_count": null,
      "outputs": []
    },
    {
      "cell_type": "code",
      "source": [
        ""
      ],
      "metadata": {
        "id": "VfrAG8URlKhO"
      },
      "execution_count": null,
      "outputs": []
    },
    {
      "cell_type": "code",
      "source": [
        ""
      ],
      "metadata": {
        "id": "1Olx8DaalKjW"
      },
      "execution_count": null,
      "outputs": []
    },
    {
      "cell_type": "code",
      "source": [
        ""
      ],
      "metadata": {
        "id": "Bg7k4CyBlKlj"
      },
      "execution_count": null,
      "outputs": []
    },
    {
      "cell_type": "code",
      "source": [
        ""
      ],
      "metadata": {
        "id": "EbsKvRDqlKn8"
      },
      "execution_count": null,
      "outputs": []
    },
    {
      "cell_type": "code",
      "source": [
        ""
      ],
      "metadata": {
        "id": "rwaKGWzElKqB"
      },
      "execution_count": null,
      "outputs": []
    },
    {
      "cell_type": "code",
      "source": [
        ""
      ],
      "metadata": {
        "id": "nHxoeGEelKsU"
      },
      "execution_count": null,
      "outputs": []
    },
    {
      "cell_type": "code",
      "source": [
        ""
      ],
      "metadata": {
        "id": "xP-wnxcLkB--"
      },
      "execution_count": null,
      "outputs": []
    },
    {
      "cell_type": "code",
      "source": [
        ""
      ],
      "metadata": {
        "id": "vmZ39RhHkCBG"
      },
      "execution_count": null,
      "outputs": []
    },
    {
      "cell_type": "code",
      "source": [
        "future_fy = [2022,\n",
        "             2023,\n",
        "             2024,\n",
        "             2025,\n",
        "             2026,\n",
        "             2027,\n",
        "             2028,\n",
        "             2029,\n",
        "             2030,\n",
        "             2031,\n",
        "             2032,\n",
        "             2033,\n",
        "             2034,\n",
        "             2035,\n",
        "             2036,\n",
        "             2037]\n",
        "\n",
        "future_fy = future_fy.reshape(length, 1)\n",
        "\n",
        "future_total_lob = reg.predict(future_fy)\n",
        "future_total_lob"
      ],
      "metadata": {
        "id": "8f-LIVfAfexN"
      },
      "execution_count": null,
      "outputs": []
    },
    {
      "cell_type": "code",
      "source": [
        ""
      ],
      "metadata": {
        "id": "K1DvZ87afezV"
      },
      "execution_count": null,
      "outputs": []
    },
    {
      "cell_type": "code",
      "source": [
        ""
      ],
      "metadata": {
        "id": "eP46IrR1fe1_"
      },
      "execution_count": null,
      "outputs": []
    },
    {
      "cell_type": "code",
      "source": [
        ""
      ],
      "metadata": {
        "id": "ZaWFsrF9fe5I"
      },
      "execution_count": null,
      "outputs": []
    },
    {
      "cell_type": "code",
      "execution_count": null,
      "metadata": {
        "id": "YgY22OR2Bp3O"
      },
      "outputs": [],
      "source": [
        "X = df_emissions_history[['1_s', '2_s', '3_s']]\n",
        "y = df_emissions_history[['total_lob']]"
      ]
    },
    {
      "cell_type": "code",
      "execution_count": null,
      "metadata": {
        "id": "ArXCAM_8Bp5n"
      },
      "outputs": [],
      "source": [
        "from sklearn.linear_model import LinearRegression\n",
        "regr = LinearRegression()\n",
        "model = regr.fit(X, y)"
      ]
    },
    {
      "cell_type": "code",
      "execution_count": null,
      "metadata": {
        "id": "U34W5q1JBp7y"
      },
      "outputs": [],
      "source": [
        "print('Intercept: \\n', regr.intercept_)\n",
        "print('Coefficients of Historical Emissions By Scope to Historical Line Of Best Fit \\n', regr.coef_)"
      ]
    },
    {
      "cell_type": "code",
      "execution_count": null,
      "metadata": {
        "id": "uJvsTOdoL_-z"
      },
      "outputs": [],
      "source": [
        "#101, 201, 301 = df_emissions_future[['1_s', '2_s', '3_s']]\n"
      ]
    },
    {
      "cell_type": "code",
      "execution_count": null,
      "metadata": {
        "id": "vpQryXJEBp94"
      },
      "outputs": [],
      "source": [
        "#PREDICT\n",
        "\n",
        "X_pred = [452,\n",
        "     1452,\n",
        "     1609]\n",
        "\n",
        "#not sure if will return all or just one predicction.... can prby code it either way but depends on my coding approach...for now is hould stick to simplest barebones and bruteforce it!\n",
        "prediction = model.predict(X_pred)\n",
        "prediction_num = float(prediction)\n",
        "prediction_num_formatted_commas = \"{:,}\".format(prediction_num)"
      ]
    },
    {
      "cell_type": "code",
      "execution_count": null,
      "metadata": {
        "id": "PhDjjHKXMZuO"
      },
      "outputs": [],
      "source": [
        ""
      ]
    },
    {
      "cell_type": "code",
      "execution_count": null,
      "metadata": {
        "id": "4KgjsMEZMZw2"
      },
      "outputs": [],
      "source": [
        ""
      ]
    },
    {
      "cell_type": "code",
      "execution_count": null,
      "metadata": {
        "id": "bkUFbXfAMZzb"
      },
      "outputs": [],
      "source": [
        ""
      ]
    },
    {
      "cell_type": "code",
      "execution_count": null,
      "metadata": {
        "id": "2VmrmSqYMZ2O"
      },
      "outputs": [],
      "source": [
        ""
      ]
    },
    {
      "cell_type": "code",
      "execution_count": null,
      "metadata": {
        "id": "r3C0mUUOMZ5F"
      },
      "outputs": [],
      "source": [
        ""
      ]
    },
    {
      "cell_type": "code",
      "execution_count": null,
      "metadata": {
        "id": "EK6UMf3EMZ7V"
      },
      "outputs": [],
      "source": [
        ""
      ]
    },
    {
      "cell_type": "code",
      "execution_count": null,
      "metadata": {
        "id": "CpifYnDMBp_3"
      },
      "outputs": [],
      "source": [
        ""
      ]
    },
    {
      "cell_type": "code",
      "execution_count": null,
      "metadata": {
        "id": "iF83dZ0dBqB9"
      },
      "outputs": [],
      "source": [
        ""
      ]
    },
    {
      "cell_type": "code",
      "execution_count": null,
      "metadata": {
        "id": "ymeA1oHawh8X"
      },
      "outputs": [],
      "source": [
        ""
      ]
    },
    {
      "cell_type": "markdown",
      "metadata": {
        "id": "TbQnyQ_9hg8B"
      },
      "source": [
        "[TOGGLED OFF] Select Dataset"
      ]
    },
    {
      "cell_type": "code",
      "execution_count": null,
      "metadata": {
        "cellView": "form",
        "collapsed": true,
        "id": "itXp-i3dfERj"
      },
      "outputs": [],
      "source": [
        "#@title\n",
        "#Get only needed features from projects tab\n",
        "#df = entire_df[['ID', 'Fiscal Year', 'Project Name', 'Actual Spent', 'Package']]#set df for all necessary columns, this df to be split into a training set and testing set\n",
        "#!!#df"
      ]
    },
    {
      "cell_type": "markdown",
      "metadata": {
        "id": "XUQys87-gh75"
      },
      "source": [
        "Prepare Dataset for Model"
      ]
    },
    {
      "cell_type": "code",
      "execution_count": null,
      "metadata": {
        "cellView": "form",
        "collapsed": true,
        "id": "qxDziyv3fHMY"
      },
      "outputs": [],
      "source": [
        "#@title\n",
        "df['Generated'] = 'Unknown'#Program will output 'Unknown' for obscure project names \n",
        "df['Explanation'] = ''#Program will provide learning opportunity using the relevant keyword in project name\n",
        "df.rename(columns = {'Project Name':'Name'}, inplace = True) \n",
        "#!!#df"
      ]
    },
    {
      "cell_type": "markdown",
      "metadata": {
        "id": "ZbmOKueDhQ9r"
      },
      "source": [
        "Avoid Error"
      ]
    },
    {
      "cell_type": "code",
      "execution_count": null,
      "metadata": {
        "cellView": "form",
        "id": "_ZU8UN8AfFGb"
      },
      "outputs": [],
      "source": [
        "#@title\n",
        "# Remove settingwithcopywarning from pandas \n",
        "pd.options.mode.chained_assignment = None  # default='warn'"
      ]
    },
    {
      "cell_type": "markdown",
      "metadata": {
        "id": "1kdx_GFKgVhI"
      },
      "source": [
        "Scrub Data"
      ]
    },
    {
      "cell_type": "code",
      "execution_count": null,
      "metadata": {
        "cellView": "form",
        "id": "dylXuIUVfIvE"
      },
      "outputs": [],
      "source": [
        "#@title\n",
        "df.Name = df.Name.astype(str)\n",
        "#!!#print(type(df.Name[88]))\n",
        "#!!#df.Name"
      ]
    },
    {
      "cell_type": "markdown",
      "metadata": {
        "id": "a-Um_Me5dSsW"
      },
      "source": [
        "[KERNEL RUNS BUT DF.REPLACE DIDNT WORK] Handle Special Characters"
      ]
    },
    {
      "cell_type": "code",
      "execution_count": null,
      "metadata": {
        "cellView": "form",
        "id": "hlosaLdFdS26"
      },
      "outputs": [],
      "source": [
        "#@title\n",
        "#Create Dictionary\n",
        "#dict = {look in this column: {find this value: replace with this value}}\n",
        "dict = {\n",
        "    'Name': {'\\!': ' '},\n",
        "    'Name': {'\\@': ' '},\n",
        "    'Name': {'\\#': ' '},\n",
        "    'Name': {'\\$': ' '},\n",
        "    'Name': {'\\%': ' '},\n",
        "    'Name': {'\\^': ' '},\n",
        "    'Name': {'\\&': ' '},\n",
        "    'Name': {'\\*': ' '},\n",
        "    'Name': {'\\(': ' '},\n",
        "    'Name': {'\\)': ' '},\n",
        "    'Name': {'\\-': ' '},\n",
        "    'Name': {'\\_': ' '},\n",
        "    'Name': {'\\=': ' '},\n",
        "    'Name': {'\\+': ' '},\n",
        "    'Name': {'\\[': ' '},\n",
        "    'Name': {'\\{': ' '},\n",
        "    'Name': {'\\]': ' '},\n",
        "    'Name': {'\\}': ' '},\n",
        "    'Name': {'\\;': ' '},\n",
        "    'Name': {'\\:': ' '},\n",
        "    'Name': {\"\\'\": ' '},\n",
        "    'Name': {'\\\"': ' '},\n",
        "    'Name': {'\\,': ' '},\n",
        "    'Name': {'\\<': ' '},\n",
        "    'Name': {'\\.': ' '},\n",
        "    'Name': {'\\>': ' '},\n",
        "    'Name': {'\\/': ' '},\n",
        "    'Name': {'\\?': ' '} \n",
        "}\n",
        "\n",
        "\n",
        "#Replace\n",
        "df.replace(dict, regex=True, inplace=True)"
      ]
    },
    {
      "cell_type": "markdown",
      "metadata": {
        "id": "_cTSl-wtfTli"
      },
      "source": [
        "Define Packages"
      ]
    },
    {
      "cell_type": "code",
      "execution_count": null,
      "metadata": {
        "cellView": "form",
        "id": "GaJOVSq_fMru"
      },
      "outputs": [],
      "source": [
        "#@title\n",
        "# Define terms for each package\n",
        "\n",
        "# excluding terms for: 'renov' 'rnvntn' 'renvtn'\n",
        "\n",
        "# terms that could benefit from generalization across projects: 'relocation', 'lighting' ...\n",
        "\n",
        "Envelope_terms = [\n",
        "    'architectural',\n",
        "    'awning',\n",
        "    'balcony',\n",
        "    'brick',\n",
        "    'bldg envel',\n",
        "    'entrance way',#keep an eye on this\n",
        "    'envelop',\n",
        "    'exterior',\n",
        "    'external',\n",
        "    'facade',\n",
        "    'Façade',\n",
        "    'front entr',\n",
        "    'dumpster',\n",
        "    'gutter',\n",
        "    'lettering',\n",
        "    'main entr',\n",
        "    'masonr',\n",
        "    'ramp',\n",
        "    'roof',\n",
        "    'paint exterior'#comes after 'Generate' Space_Renewal_terms search for 'paint'\n",
        "    'patio',\n",
        "    'pointed',\n",
        "    'pointing',\n",
        "    'porch',\n",
        "    'shingle',\n",
        "    'shutter',\n",
        "    'sky light',\n",
        "    'skylight',\n",
        "    'walk off mat',\n",
        "    'walkoff mat',\n",
        "    'window'\n",
        "]\n",
        "\n",
        "Space_Renewal_terms = [\n",
        "    'attic',\n",
        "    'beverage',\n",
        "    'bed',\n",
        "    'carpet',\n",
        "    'ceiling',#also covers 'ceiling fan'\n",
        "    'chair',\n",
        "    'climb wall',\n",
        "    'climbing wall',\n",
        "    'damage',\n",
        "    'reconfiguration',\n",
        "    'rug',\n",
        "    'room',\n",
        "    'floor chemical',\n",
        "    'floor polish',\n",
        "    'floor wax',\n",
        "    'flooring',\n",
        "    'furn',#gets overriden by 'furnace' in Building_Systems_override_terms\n",
        "    'tile',\n",
        "    'hallway',\n",
        "    'indoor',#keeping other indoor terms for now, because might need to remove 'indoor' if it doesnt continue to test well\n",
        "    'indoor basketball',\n",
        "    'indoor softball',\n",
        "    'indoor tennis',\n",
        "    'interior',\n",
        "    'kitchen vinyl',\n",
        "    'lab fit',\n",
        "    ' level stairs',\n",
        "    'locker',\n",
        "    'mirror',\n",
        "    'noise remov',\n",
        "    'office',\n",
        "    'partition',\n",
        "    'receptacl',\n",
        "    'remodel',\n",
        "    'renovation repair',\n",
        "    'res door'\n",
        "    ' rm ',\n",
        "    'rolling curtain',\n",
        "    'paint',\n",
        "    'space renewal',\n",
        "    'stair well',\n",
        "    'stairwell',\n",
        "    'suite upgr',\n",
        "    'wallpaper'\n",
        "]\n",
        "\n",
        "Building_Systems_terms = [\n",
        "    ' ac '\n",
        "    'ac out',\n",
        "    'ac repl',\n",
        "    'ac upgr',\n",
        "    'aerator',\n",
        "    ' ahu',\n",
        "    'air condi',\n",
        "    'air cycl',\n",
        "    'air duct',\n",
        "    'air handl',\n",
        "    'air mix',\n",
        "    'air qual',\n",
        "    'boiler',\n",
        "    'building system',\n",
        "    'chille',\n",
        "    'coils',\n",
        "    'cold storage',\n",
        "    'compress',\n",
        "    'conduit',\n",
        "    'controller',\n",
        "    'control sys',\n",
        "    'control upgr',\n",
        "    'controls sys',\n",
        "    'controls upgr',\n",
        "    'cooling',\n",
        "    'dehumidification',\n",
        "    'dining hood',\n",
        "    'electric feeder',\n",
        "    'electric outlet',\n",
        "    'electrical feeder',\n",
        "    'electrical outlet',\n",
        "    'elevator',\n",
        "    ' erv ',\n",
        "    'equipment conn',\n",
        "    'exhaust',\n",
        "    'distribution',\n",
        "    'duct repl',\n",
        "    'fan coil',\n",
        "    'fume hood',\n",
        "    'generator',\n",
        "    'kitchen hood',\n",
        "    'hvac',\n",
        "    'high volt',\n",
        "    'hot water',\n",
        "    'humidity',\n",
        "    'hydraul',\n",
        "    ' led ',\n",
        "    'light bulb',\n",
        "    'lightbulb',\n",
        "    'mechanical',\n",
        "    'panel',\n",
        "    'piping',\n",
        "    'plumbing',\n",
        "    'pool light',\n",
        "    'powerfeed',\n",
        "    'propane',\n",
        "    'pump',#keep an eye on this\n",
        "    ' rau ',\n",
        "    'reinsulate',\n",
        "    'repl ac ',\n",
        "    'replace ac ',\n",
        "    'rtu ',\n",
        "    'split system',\n",
        "    'steam stack',\n",
        "    'steel bracing',\n",
        "    'switchgear',\n",
        "    'systems',\n",
        "    'system upgr',\n",
        "    'tank',\n",
        "    'toilet renov',\n",
        "    'transformer',\n",
        "    'unit repl',\n",
        "    'unit upgr',\n",
        "    'variable frequency drive',\n",
        "    'ventilat',\n",
        "    'vfd',\n",
        "    'volt power',\n",
        "    'wire',\n",
        "    'water fountain',\n",
        "    'water heater',\n",
        "    'water repairs'\n",
        "]\n",
        "\n",
        "Grounds_Infrastructure_terms = [\n",
        "    'arboretum',\n",
        "    'asphalt',\n",
        "    'bicycl',\n",
        "    'biker',\n",
        "    'biking',\n",
        "    'bollard',\n",
        "    'bus shelter',\n",
        "    'campus bridge',\n",
        "    'campus sign',\n",
        "    'campus fenc',\n",
        "    'campus rock',\n",
        "    'campus wide sign',\n",
        "    'campus-wide sign',\n",
        "    ' drive ',\n",
        "    ' field',\n",
        "    'grass',\n",
        "    'graveyard',\n",
        "    'grounds',\n",
        "    'intersection',\n",
        "    'irrigat',\n",
        "    'landscap',\n",
        "    'lot',\n",
        "    'manhole',\n",
        "    'outdoor signag',\n",
        "    'park',\n",
        "    'parking lot',\n",
        "    'paving',\n",
        "    'pedestrian',\n",
        "    'playground',\n",
        "    'pot hole',\n",
        "    'pothole',\n",
        "    'promenade',\n",
        "    ' pond ',\n",
        "    'retaining wal',\n",
        "    'roadway',\n",
        "    'road repair',\n",
        "    'salt shed',\n",
        "    'sidewalk',\n",
        "    'statue',\n",
        "    'tennis court',\n",
        "    'track perim',\n",
        "    'track upgr',\n",
        "    'trail',\n",
        "    'trees',\n",
        "    'turf'\n",
        "]\n",
        "\n",
        "Utility_Infrastructure_terms = [\n",
        "    'campus distribution',\n",
        "    'campus elec',\n",
        "    'campus fossil',\n",
        "    'campus gas',\n",
        "    'campus power',\n",
        "    'campus sub',#sub-metering\n",
        "    'campus util',\n",
        "    'gas pump',\n",
        "    'gas line',\n",
        "    'geotherm',\n",
        "    'pipes',\n",
        "    'piping',\n",
        "    'sewer pip',\n",
        "    'sewer sys',\n",
        "    'steam line',\n",
        "    'substation',\n",
        "    'sub meter b',\n",
        "    'sub metering b',\n",
        "    'sub-meter b',\n",
        "    'sub-metering b',\n",
        "    'submeter b',\n",
        "    'submetering b',\n",
        "    'tele infra',\n",
        "    'utility & infra',\n",
        "    'utility and infra',\n",
        "    'utility meter',\n",
        "    'utility infra',\n",
        "    'utilities infra',\n",
        "    'utilities meter',\n",
        "    'water line',\n",
        "    'waterline'\n",
        "]\n",
        "\n",
        "Non_Facilities_terms = [\n",
        "    'covid',\n",
        "    'automatic scrubber',\n",
        "    'abatement',\n",
        "    'analysis',\n",
        "    'assessment',\n",
        "    'audio/visual',\n",
        "    'audiovisual',\n",
        "    ' car ',\n",
        "    ' cars',\n",
        "    'charge',\n",
        "    'computer equip',\n",
        "    'computers',\n",
        "    'computing prog',\n",
        "    'consulting',\n",
        "    'design',\n",
        "    'dining equip',\n",
        "    'fiber optic',\n",
        "    'fiberoptic',\n",
        "    'imaging',\n",
        "    'it equip',\n",
        "    'demolition',\n",
        "    'feasibility',\n",
        "    'guideline',\n",
        "    'internet',\n",
        "    'it for ',\n",
        "    'kitchen equip',\n",
        "    'leaf vaccum'\n",
        "    'master plan',\n",
        "    'media equip',\n",
        "    'network',\n",
        "    'non-facilit',\n",
        "    'non facilit',\n",
        "    'nonfacilit',\n",
        "    'planning',\n",
        "    'procure',\n",
        "    ' programming',\n",
        "    'provost',\n",
        "    'software',\n",
        "    'study',\n",
        "    'survey',\n",
        "    'tech update',\n",
        "    ' tva ',\n",
        "    'unallocated',\n",
        "    'vehicle',\n",
        "    'wireless',\n",
        "    'wifi'\n",
        "]\n",
        "\n",
        "Safety_Code_terms = [\n",
        "    'access control',\n",
        "    ' ada ',\n",
        "    'asbestos',\n",
        "    'building access',\n",
        "    'bldg access',\n",
        "    'fire ',\n",
        "    'handicap elevator',\n",
        "    'handicap ramp',\n",
        "    'handicap lift',\n",
        "    'handrail',\n",
        "    'sprinklers',\n",
        "    'alarm',\n",
        "    'lock ',\n",
        "    'locksmith',\n",
        "    'railroad crossing',\n",
        "    'wheelchair',\n",
        "    'wheelchair elevator',\n",
        "    'wheelchair lift',\n",
        "    'wheelchair ramp',\n",
        "    'handicap',\n",
        "    'safety',\n",
        "    'security',\n",
        "    'sprinkler',\n",
        "    'emergency',\n",
        "    'bluelight',\n",
        "    'blue light'\n",
        "]\n",
        "\n",
        "New_Space_terms = [\n",
        "    'building addition',\n",
        "    'bldg addition',\n",
        "    'expansion',\n",
        "    'new addition',\n",
        "    'new apartment',\n",
        "    'new space',\n",
        "    'new construction',\n",
        "    'new building',\n",
        "    'new chapter house',\n",
        "    'new dining hall',\n",
        "    'new floor',\n",
        "    'new fraternity house',\n",
        "    'new house',\n",
        "    'new residence hall',\n",
        "    'new room',\n",
        "    'site dev'\n",
        "]\n",
        "\n",
        "Mixed_terms = [\n",
        "    'Renovation and Addition',\n",
        "    'Renovation & Addition',\n",
        "    'Renovations and Additions',\n",
        "    'Renovations & Additions'\n",
        "]\n",
        "\n",
        "#!!#print(Space_Renewal_terms)\n",
        "#!!#print(Building_Systems_terms)\n",
        "#!!#print(Envelope_terms)\n",
        "#!!#print(Safety_Code_terms)\n",
        "#!!#print(Grounds_Infrastructure_terms)\n",
        "#!!#print(Utility_Infrastructure_terms)\n",
        "#!!#print(New_Space_terms)\n",
        "#!!#print(Non_Facilities_terms)"
      ]
    },
    {
      "cell_type": "markdown",
      "metadata": {
        "id": "aAr_S8KYfn71"
      },
      "source": [
        "Package Projects"
      ]
    },
    {
      "cell_type": "code",
      "execution_count": null,
      "metadata": {
        "id": "QOZWN1EwfkRT"
      },
      "outputs": [],
      "source": [
        "##@title\n",
        "# GENERATE PACKAGES\n",
        "\n",
        "##!##it would clean this code to set a new default argument for the str.contains() parameter *case=False* (by default it is set to True)\n",
        "##!##https://stackoverflow.com/questions/25126805/change-default-arguments-of-function-in-python\n",
        "\n",
        "#df.loc[df['Name'].str.contains(r'(?:{})'.format('|'.join(Space_Renewal_terms)))]\n",
        "#df.loc[df['Name'].str.contains(r'(?:{})'.format('|'.join(Envelope_terms)))]\n",
        "\n",
        "# search project names and generate package codings in df col 'Generate' for envelope projects:\n",
        "\n",
        "\n",
        "# Generate Grounds Infrastructure:\n",
        "# Generate Grounds Infrastructure first, because its terms tend to show up in other project names that do not involve any grounds infrastructure work (ie \"Field House\" includes term 'field') \n",
        "df.loc[df.Name.str.contains(r'(?:{})'.format('|'.join(Grounds_Infrastructure_terms)), case=False), 'Generated'] = 'Grounds Infrastructure'\n",
        "\n",
        "# Generate Utility Infrastructure:\n",
        "df.loc[df.Name.str.contains(r'(?:{})'.format('|'.join(Utility_Infrastructure_terms)), case=False), 'Generated'] = 'Utility Infrastructure'\n",
        "\n",
        "# Generate Building Systems:\n",
        "# Generate Building Systems AFTER Utility Infrastructure, because 'substation' is a Utility Infrastructure term but sometimes a substation project will be for a 'chiller' or 'cooling tower' ...\n",
        "#   which would more likely be a Building Systems project\n",
        "df.loc[df.Name.str.contains(r'(?:{})'.format('|'.join(Building_Systems_terms)), case=False), 'Generated'] = 'Building Systems'\n",
        "\n",
        "# Generate Space Renewal:\n",
        "# (( for Space_Renewal_override_terms: the Envelope term 'roof' would otherwise re-generate for projects with the term 'soundproof' and 'sound proof'))\n",
        "df.loc[df.Name.str.contains(r'(?:{})'.format('|'.join(Space_Renewal_terms)), case=False), 'Generated'] = 'Space Renewal'\n",
        "\n",
        "# Generate Envelope:\n",
        "# Generate Envelope AFTER Space Renewal, because 'exterior' painting would otherwise get overriden by 'paint' which is a Space Renewal term\n",
        "df.loc[df.Name.str.contains(r'(?:{})'.format('|'.join(Envelope_terms)), case=False), 'Generated'] = 'Envelope'\n",
        "\n",
        "# Generate Safety/Code:\n",
        "df.loc[df.Name.str.contains(r'(?:{})'.format('|'.join(Safety_Code_terms)), case=False), 'Generated'] = 'Safety/Code'\n",
        "\n",
        "# Generate Non-Facilities:\n",
        "# Generate Non-Facilities third-last (last except for New Space and Mixed), because 'design', 'study', 'plan ' need to override some projects\n",
        "df.loc[df.Name.str.contains(r'(?:{})'.format('|'.join(Non_Facilities_terms)), case=False), 'Generated'] = 'Non-Facilities'\n",
        "\n",
        "# Generate New Space:\n",
        "# Generate New Space second-last, because other terms need to be replaced to New Space if the project involves new space (New Space beats other package codings, except Mixed)\n",
        "df.loc[df.Name.str.contains(r'(?:{})'.format('|'.join(New_Space_terms)), case=False), 'Generated'] = 'New Space'\n",
        "\n",
        "# Generate Mixed:\n",
        "# Generate Mixed dead-last, because the few Mixed terms should replace other package codings if the Mixed terms are used in a project name (similar to New Space, but beats New Space)\n",
        "df.loc[df.Name.str.contains(r'(?:{})'.format('|'.join(Mixed_terms)), case=False), 'Generated'] = 'Mixed'"
      ]
    },
    {
      "cell_type": "markdown",
      "metadata": {
        "id": "MMkgmCSgfgTa"
      },
      "source": [
        "Define Package Overrides"
      ]
    },
    {
      "cell_type": "code",
      "execution_count": null,
      "metadata": {
        "cellView": "form",
        "id": "C6nXsFVofRZg"
      },
      "outputs": [],
      "source": [
        "#@title\n",
        "# list override terms for each package too, which would solve a lot of temporary solutions, with solutions that can effectively be permanent !!! ie generate those after generating the initial package term generations\n",
        "\n",
        "Space_Renewal_override_terms = [\n",
        "    'sound proof',\n",
        "    'soundproof'\n",
        "]\n",
        "\n",
        "Building_Systems_override_terms = [\n",
        "    ' ac repl',\n",
        "    'emergency generator',#overrides Safety/Code term 'emergency'\n",
        "    'expansion tank',#overrides New Space term 'expansion'\n",
        "    'furnace'#overrides Space Renewal term 'furn'\n",
        "]\n",
        "\n",
        "Envelope_override_terms = [\n",
        "    'exterior paint',\n",
        "    'outdoor furni',\n",
        "    'outdoor paint',\n",
        "    'outside furni',\n",
        "    'outside paint',#rooftop doesnt work bc most database projects w 'rooftop' were bldg systems \n",
        "]\n",
        "\n",
        "Safety_Code_override_terms = [\n",
        "    'abcdefghijklmnopqrstuvwxyznowiknowmyabcs'\n",
        "]\n",
        "\n",
        "Grounds_Infrastructure_override_terms = [\n",
        "    'outdoor furni',\n",
        "    'outside furni'\n",
        "]\n",
        "\n",
        "Utility_Infrastructure_override_terms = [\n",
        "    'utility'\n",
        "]\n",
        "\n",
        "# Some Non-Facilities override terms repeat terms from the original Non-Facilities terms list, these specific override terms catch any projects that have \n",
        "Non_Facilities_override_terms = [\n",
        "    'automotive serv',\n",
        "    'design',\n",
        "    'immersive class',\n",
        "    'master plan',\n",
        "    'study',\n",
        "    ' testing'\n",
        "]\n",
        "\n",
        "New_Space_override_terms = [\n",
        "    'abcdefghijklmnopqrstuvwxyznowiknowmyabcs'\n",
        "]\n",
        "\n",
        "Mixed_override_terms = [\n",
        "    'abcdefghijklmnopqrstuvwxyznowiknowmyabcs'  \n",
        "]"
      ]
    },
    {
      "cell_type": "markdown",
      "metadata": {
        "id": "eo90b1QcfynS"
      },
      "source": [
        "Override Packages"
      ]
    },
    {
      "cell_type": "code",
      "execution_count": null,
      "metadata": {
        "cellView": "form",
        "id": "KPe3RqeLfyuR"
      },
      "outputs": [],
      "source": [
        "#@title\n",
        "# RE-GENERATE PACKAGE OVERRIDES\n",
        "\n",
        "# Generate Package overrides:\n",
        "df.loc[df.Name.str.contains(r'(?:{})'.format('|'.join(Grounds_Infrastructure_override_terms)), case=False), 'Generated'] = 'Grounds Infrastructure'\n",
        "df.loc[df.Name.str.contains(r'(?:{})'.format('|'.join(Utility_Infrastructure_override_terms)), case=False), 'Generated'] = 'Utility Infrastructure'\n",
        "df.loc[df.Name.str.contains(r'(?:{})'.format('|'.join(Building_Systems_override_terms)), case=False), 'Generated'] = 'Building Systems'\n",
        "df.loc[df.Name.str.contains(r'(?:{})'.format('|'.join(Space_Renewal_override_terms)), case=False), 'Generated'] = 'Space Renewal'\n",
        "df.loc[df.Name.str.contains(r'(?:{})'.format('|'.join(Envelope_override_terms)), case=False), 'Generated'] = 'Envelope'\n",
        "df.loc[df.Name.str.contains(r'(?:{})'.format('|'.join(Safety_Code_override_terms)), case=False), 'Generated'] = 'Safety/Code'\n",
        "df.loc[df.Name.str.contains(r'(?:{})'.format('|'.join(Non_Facilities_override_terms)), case=False), 'Generated'] = 'Non-Facilities'\n",
        "df.loc[df.Name.str.contains(r'(?:{})'.format('|'.join(New_Space_override_terms)), case=False), 'Generated'] = 'New Space'\n",
        "df.loc[df.Name.str.contains(r'(?:{})'.format('|'.join(Mixed_override_terms)), case=False), 'Generated'] = 'Mixed'"
      ]
    },
    {
      "cell_type": "markdown",
      "metadata": {
        "id": "TJw4zC0_bBFo"
      },
      "source": [
        "[UNDER CONSTRUCTION] Provide Explanations"
      ]
    },
    {
      "cell_type": "code",
      "execution_count": null,
      "metadata": {
        "id": "hkEplv1qbBNK"
      },
      "outputs": [],
      "source": [
        "##@title\n",
        "#Organize similarly to \"Define Packages\" Kernel, except need to iterate over all project names every time for every individual Explanation ... a quicker way to do this would be to only iterate over projects with the respective generated package,\n",
        "#so the first set of explanation iterations with adding to the Explaantion col --> the first set can be Space Renewal terms with explanations, and each of these lines of code can selectively iterate over only 'Generated'=\"Space Renewal\" "
      ]
    },
    {
      "cell_type": "markdown",
      "metadata": {
        "id": "0JFrXC-7f9e3"
      },
      "source": [
        "Result"
      ]
    },
    {
      "cell_type": "code",
      "execution_count": null,
      "metadata": {
        "cellView": "form",
        "collapsed": true,
        "id": "WhzxqIF4f9mg"
      },
      "outputs": [],
      "source": [
        "#@title\n",
        "# DISPLAY DATAFRAME WITH GENERATED PACKAGES\n",
        "\n",
        "# Display dataframe\n",
        "#!!#display(df)\n",
        "\n",
        "# Display dataframe rows without a generated package\n",
        "#!!#display(df[df.Generated=='Unknown'])\n",
        "\n",
        "# Display dataframe rows with successfully generated package, where df.Generated == df.Package\n",
        "#!!#display(df[df.Generated==df.Package])"
      ]
    },
    {
      "cell_type": "markdown",
      "metadata": {
        "id": "-boAKHamgGxU"
      },
      "source": [
        "Export"
      ]
    },
    {
      "cell_type": "code",
      "execution_count": null,
      "metadata": {
        "cellView": "form",
        "id": "jKwOzNqngG5F"
      },
      "outputs": [],
      "source": [
        "#@title\n",
        "\n",
        "df.to_excel('Packages_Export.xlsx') \n",
        "files.download('Packages_Export.xlsx')\n",
        "\n",
        "# Write to excel\n",
        "#df.to_excel(r'C:\\Users\\eshlom\\OneDrive - Fortive\\Documents\\D4G\\Fast Package\\Fast Package Output writes\\fastpackage8_testingforcolabthough.xlsx', index = False)"
      ]
    }
  ],
  "metadata": {
    "colab": {
      "collapsed_sections": [],
      "name": "PySpark ML Hackathon Sprint.ipynb",
      "provenance": []
    },
    "kernelspec": {
      "display_name": "Python 3",
      "name": "python3"
    },
    "language_info": {
      "name": "python"
    }
  },
  "nbformat": 4,
  "nbformat_minor": 0
}